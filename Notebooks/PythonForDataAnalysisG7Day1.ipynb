{
 "cells": [
  {
   "cell_type": "code",
   "execution_count": 1,
   "metadata": {
    "colab": {
     "base_uri": "https://localhost:8080/"
    },
    "executionInfo": {
     "elapsed": 45,
     "status": "ok",
     "timestamp": 1746814546501,
     "user": {
      "displayName": "Ewan Elwan",
      "userId": "01498003237207588680"
     },
     "user_tz": -180
    },
    "id": "wQveMFZTOl9A",
    "outputId": "bbf365ca-4d67-4844-c940-ee73e5c71e4d"
   },
   "outputs": [
    {
     "name": "stdout",
     "output_type": "stream",
     "text": [
      "abc\n"
     ]
    }
   ],
   "source": [
    "print('abc')"
   ]
  },
  {
   "cell_type": "code",
   "execution_count": null,
   "metadata": {
    "id": "T9lhWZACQpCn"
   },
   "outputs": [],
   "source": []
  },
  {
   "cell_type": "markdown",
   "metadata": {
    "id": "giArJ97ERFEx"
   },
   "source": [
    "**Introduction to Python**"
   ]
  },
  {
   "cell_type": "code",
   "execution_count": 2,
   "metadata": {
    "colab": {
     "base_uri": "https://localhost:8080/"
    },
    "executionInfo": {
     "elapsed": 35,
     "status": "ok",
     "timestamp": 1746816724340,
     "user": {
      "displayName": "Ewan Elwan",
      "userId": "01498003237207588680"
     },
     "user_tz": -180
    },
    "id": "hw-BGa_SRLwN",
    "outputId": "fa71eab1-b1fb-4c2c-9866-c8e4639b2d44"
   },
   "outputs": [
    {
     "name": "stdout",
     "output_type": "stream",
     "text": [
      "Hello World\n"
     ]
    }
   ],
   "source": [
    "#python is a case sensitive langauge\n",
    "\n",
    "print('Hello World')#print is built in function"
   ]
  },
  {
   "cell_type": "code",
   "execution_count": 5,
   "metadata": {
    "colab": {
     "base_uri": "https://localhost:8080/"
    },
    "executionInfo": {
     "elapsed": 16,
     "status": "ok",
     "timestamp": 1746816770573,
     "user": {
      "displayName": "Ewan Elwan",
      "userId": "01498003237207588680"
     },
     "user_tz": -180
    },
    "id": "nAiMu6xiY1d2",
    "outputId": "45707d7d-9cb9-476c-b529-a061abac2289"
   },
   "outputs": [
    {
     "name": "stdout",
     "output_type": "stream",
     "text": [
      "Hello World\n"
     ]
    }
   ],
   "source": [
    "print(\"Hello World\")#fuunction call or function invocation"
   ]
  },
  {
   "cell_type": "code",
   "execution_count": 7,
   "metadata": {
    "colab": {
     "base_uri": "https://localhost:8080/"
    },
    "executionInfo": {
     "elapsed": 79,
     "status": "ok",
     "timestamp": 1746817395963,
     "user": {
      "displayName": "Ewan Elwan",
      "userId": "01498003237207588680"
     },
     "user_tz": -180
    },
    "id": "Z74uH3X4ZJ9p",
    "outputId": "b01b276b-c705-42a5-bb1b-eaa7d6df2d49"
   },
   "outputs": [
    {
     "name": "stdout",
     "output_type": "stream",
     "text": [
      "Hello World !\n",
      "\n",
      "Today is our first session\n"
     ]
    }
   ],
   "source": [
    "print('Hello','World','!')#positional argument passing\n",
    "print()\n",
    "print('Today is our first session')"
   ]
  },
  {
   "cell_type": "code",
   "execution_count": 8,
   "metadata": {
    "colab": {
     "base_uri": "https://localhost:8080/"
    },
    "executionInfo": {
     "elapsed": 40,
     "status": "ok",
     "timestamp": 1746817585849,
     "user": {
      "displayName": "Ewan Elwan",
      "userId": "01498003237207588680"
     },
     "user_tz": -180
    },
    "id": "YyKxSIfdbEYr",
    "outputId": "4b6790cd-2598-4afe-e55b-b558a502602e"
   },
   "outputs": [
    {
     "name": "stdout",
     "output_type": "stream",
     "text": [
      "Hello,World,!\n"
     ]
    }
   ],
   "source": [
    "print('Hello','World','!', sep=',')#positional and keyword"
   ]
  },
  {
   "cell_type": "code",
   "execution_count": 10,
   "metadata": {
    "colab": {
     "base_uri": "https://localhost:8080/"
    },
    "executionInfo": {
     "elapsed": 22,
     "status": "ok",
     "timestamp": 1746817789283,
     "user": {
      "displayName": "Ewan Elwan",
      "userId": "01498003237207588680"
     },
     "user_tz": -180
    },
    "id": "twzixSWkcREL",
    "outputId": "640de424-4671-4136-aa84-5674eeb9b457"
   },
   "outputs": [
    {
     "name": "stdout",
     "output_type": "stream",
     "text": [
      "Hello,World,!Today is our first session\n",
      "It is sunny today\n"
     ]
    }
   ],
   "source": [
    "print('Hello','World','!',sep=',',end='')#positional argument passing\n",
    "#print()\n",
    "print('Today is our first session')\n",
    "print('It is sunny today')"
   ]
  },
  {
   "cell_type": "code",
   "execution_count": 11,
   "metadata": {
    "colab": {
     "base_uri": "https://localhost:8080/"
    },
    "executionInfo": {
     "elapsed": 18,
     "status": "ok",
     "timestamp": 1746818007234,
     "user": {
      "displayName": "Ewan Elwan",
      "userId": "01498003237207588680"
     },
     "user_tz": -180
    },
    "id": "nzjxsAdcc6N6",
    "outputId": "9ca571ce-895e-4934-bc09-bce9542a76d7"
   },
   "outputs": [
    {
     "name": "stdout",
     "output_type": "stream",
     "text": [
      "Hello\n",
      "World\n",
      "!\n"
     ]
    }
   ],
   "source": [
    "print('Hello\\nWorld\\n!')"
   ]
  },
  {
   "cell_type": "code",
   "execution_count": 12,
   "metadata": {
    "colab": {
     "base_uri": "https://localhost:8080/"
    },
    "executionInfo": {
     "elapsed": 25,
     "status": "ok",
     "timestamp": 1746818041710,
     "user": {
      "displayName": "Ewan Elwan",
      "userId": "01498003237207588680"
     },
     "user_tz": -180
    },
    "id": "fCkPLcLLd39Q",
    "outputId": "ccfa1564-a4cb-4458-87e1-c96a381bf85d"
   },
   "outputs": [
    {
     "name": "stdout",
     "output_type": "stream",
     "text": [
      "HellonWorldn!\n"
     ]
    }
   ],
   "source": [
    "print('HellonWorldn!')"
   ]
  },
  {
   "cell_type": "code",
   "execution_count": 13,
   "metadata": {
    "colab": {
     "base_uri": "https://localhost:8080/",
     "height": 106
    },
    "executionInfo": {
     "elapsed": 41,
     "status": "error",
     "timestamp": 1746818066232,
     "user": {
      "displayName": "Ewan Elwan",
      "userId": "01498003237207588680"
     },
     "user_tz": -180
    },
    "id": "UzGfjvnSeAUc",
    "outputId": "2da5f382-0bec-4d76-fb4c-3ab8bcb7f787"
   },
   "outputs": [
    {
     "ename": "SyntaxError",
     "evalue": "unterminated string literal (detected at line 1) (<ipython-input-13-eaac87876c3b>, line 1)",
     "output_type": "error",
     "traceback": [
      "\u001b[0;36m  File \u001b[0;32m\"<ipython-input-13-eaac87876c3b>\"\u001b[0;36m, line \u001b[0;32m1\u001b[0m\n\u001b[0;31m    print('\\')\u001b[0m\n\u001b[0m          ^\u001b[0m\n\u001b[0;31mSyntaxError\u001b[0m\u001b[0;31m:\u001b[0m unterminated string literal (detected at line 1)\n"
     ]
    }
   ],
   "source": [
    "print('\\')"
   ]
  },
  {
   "cell_type": "code",
   "execution_count": 14,
   "metadata": {
    "colab": {
     "base_uri": "https://localhost:8080/"
    },
    "executionInfo": {
     "elapsed": 80,
     "status": "ok",
     "timestamp": 1746818178211,
     "user": {
      "displayName": "Ewan Elwan",
      "userId": "01498003237207588680"
     },
     "user_tz": -180
    },
    "id": "UueKBcvqeGWL",
    "outputId": "e7c3ef4c-b1c5-4388-d6d0-7acee125e57f"
   },
   "outputs": [
    {
     "name": "stdout",
     "output_type": "stream",
     "text": [
      "'\n"
     ]
    }
   ],
   "source": [
    "print('\\'')"
   ]
  },
  {
   "cell_type": "code",
   "execution_count": 15,
   "metadata": {
    "colab": {
     "base_uri": "https://localhost:8080/"
    },
    "executionInfo": {
     "elapsed": 16,
     "status": "ok",
     "timestamp": 1746818201158,
     "user": {
      "displayName": "Ewan Elwan",
      "userId": "01498003237207588680"
     },
     "user_tz": -180
    },
    "id": "rq4ObuJRehsU",
    "outputId": "7f33fbb8-ee36-4f29-fd10-f68e528d6c3b"
   },
   "outputs": [
    {
     "name": "stdout",
     "output_type": "stream",
     "text": [
      "'\n"
     ]
    }
   ],
   "source": [
    "print(\"'\")"
   ]
  },
  {
   "cell_type": "code",
   "execution_count": 16,
   "metadata": {
    "colab": {
     "base_uri": "https://localhost:8080/",
     "height": 106
    },
    "executionInfo": {
     "elapsed": 99,
     "status": "error",
     "timestamp": 1746818248471,
     "user": {
      "displayName": "Ewan Elwan",
      "userId": "01498003237207588680"
     },
     "user_tz": -180
    },
    "id": "BfR0pJosenS8",
    "outputId": "efa0591b-0841-4040-8abf-da742053e784"
   },
   "outputs": [
    {
     "ename": "SyntaxError",
     "evalue": "incomplete input (<ipython-input-16-c6d045ece466>, line 1)",
     "output_type": "error",
     "traceback": [
      "\u001b[0;36m  File \u001b[0;32m\"<ipython-input-16-c6d045ece466>\"\u001b[0;36m, line \u001b[0;32m1\u001b[0m\n\u001b[0;31m    print(''')\u001b[0m\n\u001b[0m          ^\u001b[0m\n\u001b[0;31mSyntaxError\u001b[0m\u001b[0;31m:\u001b[0m incomplete input\n"
     ]
    }
   ],
   "source": [
    "print(''')"
   ]
  },
  {
   "cell_type": "code",
   "execution_count": 17,
   "metadata": {
    "colab": {
     "base_uri": "https://localhost:8080/",
     "height": 106
    },
    "executionInfo": {
     "elapsed": 28,
     "status": "error",
     "timestamp": 1746818321777,
     "user": {
      "displayName": "Ewan Elwan",
      "userId": "01498003237207588680"
     },
     "user_tz": -180
    },
    "id": "IrkUwYgTey0o",
    "outputId": "5133521a-eef7-4f2b-854e-137567274619"
   },
   "outputs": [
    {
     "ename": "SyntaxError",
     "evalue": "positional argument follows keyword argument (<ipython-input-17-e9661bb315fe>, line 1)",
     "output_type": "error",
     "traceback": [
      "\u001b[0;36m  File \u001b[0;32m\"<ipython-input-17-e9661bb315fe>\"\u001b[0;36m, line \u001b[0;32m1\u001b[0m\n\u001b[0;31m    print(sep=',','abc')\u001b[0m\n\u001b[0m                       ^\u001b[0m\n\u001b[0;31mSyntaxError\u001b[0m\u001b[0;31m:\u001b[0m positional argument follows keyword argument\n"
     ]
    }
   ],
   "source": [
    "print(sep=',','abc')"
   ]
  },
  {
   "cell_type": "code",
   "execution_count": 18,
   "metadata": {
    "colab": {
     "base_uri": "https://localhost:8080/",
     "height": 106
    },
    "executionInfo": {
     "elapsed": 31,
     "status": "error",
     "timestamp": 1746818361454,
     "user": {
      "displayName": "Ewan Elwan",
      "userId": "01498003237207588680"
     },
     "user_tz": -180
    },
    "id": "Uu0_Y23kfEsR",
    "outputId": "486b7fd4-eabd-4072-fb23-282e1a397919"
   },
   "outputs": [
    {
     "ename": "SyntaxError",
     "evalue": "positional argument follows keyword argument (<ipython-input-18-749586ce6901>, line 1)",
     "output_type": "error",
     "traceback": [
      "\u001b[0;36m  File \u001b[0;32m\"<ipython-input-18-749586ce6901>\"\u001b[0;36m, line \u001b[0;32m1\u001b[0m\n\u001b[0;31m    print('hello',sep=',','Wolrd')\u001b[0m\n\u001b[0m                                 ^\u001b[0m\n\u001b[0;31mSyntaxError\u001b[0m\u001b[0;31m:\u001b[0m positional argument follows keyword argument\n"
     ]
    }
   ],
   "source": [
    "print('hello',sep=',','Wolrd')"
   ]
  },
  {
   "cell_type": "code",
   "execution_count": null,
   "metadata": {
    "id": "1hg94jcnfOYW"
   },
   "outputs": [],
   "source": [
    "123\n",
    "c\n",
    "'c'"
   ]
  },
  {
   "cell_type": "code",
   "execution_count": 19,
   "metadata": {
    "colab": {
     "base_uri": "https://localhost:8080/"
    },
    "executionInfo": {
     "elapsed": 36,
     "status": "ok",
     "timestamp": 1746818576364,
     "user": {
      "displayName": "Ewan Elwan",
      "userId": "01498003237207588680"
     },
     "user_tz": -180
    },
    "id": "4JrCvulJf3uh",
    "outputId": "aee6883e-b282-460e-af3d-cae2c3666bdb"
   },
   "outputs": [
    {
     "name": "stdout",
     "output_type": "stream",
     "text": [
      "<class 'int'>\n"
     ]
    }
   ],
   "source": [
    "print(type(111111111))"
   ]
  },
  {
   "cell_type": "code",
   "execution_count": 21,
   "metadata": {
    "colab": {
     "base_uri": "https://localhost:8080/"
    },
    "executionInfo": {
     "elapsed": 13,
     "status": "ok",
     "timestamp": 1746818653237,
     "user": {
      "displayName": "Ewan Elwan",
      "userId": "01498003237207588680"
     },
     "user_tz": -180
    },
    "id": "cOmDDiUugC5u",
    "outputId": "ac179206-c49b-4d2c-c0e9-72b1c55cf9bd"
   },
   "outputs": [
    {
     "data": {
      "text/plain": [
       "-12345667890"
      ]
     },
     "execution_count": 21,
     "metadata": {},
     "output_type": "execute_result"
    }
   ],
   "source": [
    "-123_456_678_90"
   ]
  },
  {
   "cell_type": "code",
   "execution_count": 22,
   "metadata": {
    "colab": {
     "base_uri": "https://localhost:8080/"
    },
    "executionInfo": {
     "elapsed": 28,
     "status": "ok",
     "timestamp": 1746818740915,
     "user": {
      "displayName": "Ewan Elwan",
      "userId": "01498003237207588680"
     },
     "user_tz": -180
    },
    "id": "L7sckbxBgQbG",
    "outputId": "e5577884-4975-479b-984a-bc4e5e855ca1"
   },
   "outputs": [
    {
     "data": {
      "text/plain": [
       "5"
      ]
     },
     "execution_count": 22,
     "metadata": {},
     "output_type": "execute_result"
    }
   ],
   "source": [
    "0b101#binary 0-1"
   ]
  },
  {
   "cell_type": "code",
   "execution_count": 25,
   "metadata": {
    "colab": {
     "base_uri": "https://localhost:8080/",
     "height": 106
    },
    "executionInfo": {
     "elapsed": 29,
     "status": "error",
     "timestamp": 1746818791915,
     "user": {
      "displayName": "Ewan Elwan",
      "userId": "01498003237207588680"
     },
     "user_tz": -180
    },
    "id": "zEvYuoUTgrAe",
    "outputId": "7bc3bfbc-9682-487e-f6df-d3fecd459db0"
   },
   "outputs": [
    {
     "ename": "SyntaxError",
     "evalue": "invalid digit '2' in binary literal (<ipython-input-25-e87b64d23a96>, line 1)",
     "output_type": "error",
     "traceback": [
      "\u001b[0;36m  File \u001b[0;32m\"<ipython-input-25-e87b64d23a96>\"\u001b[0;36m, line \u001b[0;32m1\u001b[0m\n\u001b[0;31m    0B10102\u001b[0m\n\u001b[0m          ^\u001b[0m\n\u001b[0;31mSyntaxError\u001b[0m\u001b[0;31m:\u001b[0m invalid digit '2' in binary literal\n"
     ]
    }
   ],
   "source": [
    "0B10102\n"
   ]
  },
  {
   "cell_type": "code",
   "execution_count": 26,
   "metadata": {
    "colab": {
     "base_uri": "https://localhost:8080/"
    },
    "executionInfo": {
     "elapsed": 16,
     "status": "ok",
     "timestamp": 1746818801846,
     "user": {
      "displayName": "Ewan Elwan",
      "userId": "01498003237207588680"
     },
     "user_tz": -180
    },
    "id": "hzbw2Oazgw7F",
    "outputId": "9e14c6e3-264e-4b07-8d7d-bb1937b85a21"
   },
   "outputs": [
    {
     "data": {
      "text/plain": [
       "83"
      ]
     },
     "execution_count": 26,
     "metadata": {},
     "output_type": "execute_result"
    }
   ],
   "source": [
    "0o123#octal 0-7"
   ]
  },
  {
   "cell_type": "code",
   "execution_count": 27,
   "metadata": {
    "colab": {
     "base_uri": "https://localhost:8080/"
    },
    "executionInfo": {
     "elapsed": 30,
     "status": "ok",
     "timestamp": 1746818810057,
     "user": {
      "displayName": "Ewan Elwan",
      "userId": "01498003237207588680"
     },
     "user_tz": -180
    },
    "id": "C2NC9313g58q",
    "outputId": "2491182e-b963-4a4a-e6c3-2edac7ec5591"
   },
   "outputs": [
    {
     "data": {
      "text/plain": [
       "83"
      ]
     },
     "execution_count": 27,
     "metadata": {},
     "output_type": "execute_result"
    }
   ],
   "source": [
    "0O123"
   ]
  },
  {
   "cell_type": "code",
   "execution_count": 29,
   "metadata": {
    "colab": {
     "base_uri": "https://localhost:8080/"
    },
    "executionInfo": {
     "elapsed": 13,
     "status": "ok",
     "timestamp": 1746818866248,
     "user": {
      "displayName": "Ewan Elwan",
      "userId": "01498003237207588680"
     },
     "user_tz": -180
    },
    "id": "sYihuETpg72I",
    "outputId": "eb0be305-0e51-49e3-c55d-6efaee15cf5b"
   },
   "outputs": [
    {
     "data": {
      "text/plain": [
       "291"
      ]
     },
     "execution_count": 29,
     "metadata": {},
     "output_type": "execute_result"
    }
   ],
   "source": [
    "0x123#hexadecimal 0-9A-F"
   ]
  },
  {
   "cell_type": "code",
   "execution_count": 30,
   "metadata": {
    "colab": {
     "base_uri": "https://localhost:8080/"
    },
    "executionInfo": {
     "elapsed": 41,
     "status": "ok",
     "timestamp": 1746818962976,
     "user": {
      "displayName": "Ewan Elwan",
      "userId": "01498003237207588680"
     },
     "user_tz": -180
    },
    "id": "WdCzADqxhIPJ",
    "outputId": "f2789fec-ce4b-4c9b-f574-6d2c09426c14"
   },
   "outputs": [
    {
     "data": {
      "text/plain": [
       "-0.4"
      ]
     },
     "execution_count": 30,
     "metadata": {},
     "output_type": "execute_result"
    }
   ],
   "source": [
    "2.5\n",
    "-0.4"
   ]
  },
  {
   "cell_type": "code",
   "execution_count": 31,
   "metadata": {
    "colab": {
     "base_uri": "https://localhost:8080/"
    },
    "executionInfo": {
     "elapsed": 23,
     "status": "ok",
     "timestamp": 1746818985354,
     "user": {
      "displayName": "Ewan Elwan",
      "userId": "01498003237207588680"
     },
     "user_tz": -180
    },
    "id": "DXwkoxn2hhSt",
    "outputId": "91ac54fd-5ba9-452d-c0e4-cfcb18514824"
   },
   "outputs": [
    {
     "data": {
      "text/plain": [
       "0.4"
      ]
     },
     "execution_count": 31,
     "metadata": {},
     "output_type": "execute_result"
    }
   ],
   "source": [
    "0.4"
   ]
  },
  {
   "cell_type": "code",
   "execution_count": 32,
   "metadata": {
    "colab": {
     "base_uri": "https://localhost:8080/"
    },
    "executionInfo": {
     "elapsed": 32,
     "status": "ok",
     "timestamp": 1746818988420,
     "user": {
      "displayName": "Ewan Elwan",
      "userId": "01498003237207588680"
     },
     "user_tz": -180
    },
    "id": "OAvAHKdGhmuC",
    "outputId": "e7057fd3-82ef-4d1e-b96c-05bbbb6663d0"
   },
   "outputs": [
    {
     "data": {
      "text/plain": [
       "0.4"
      ]
     },
     "execution_count": 32,
     "metadata": {},
     "output_type": "execute_result"
    }
   ],
   "source": [
    ".4"
   ]
  },
  {
   "cell_type": "code",
   "execution_count": 35,
   "metadata": {
    "colab": {
     "base_uri": "https://localhost:8080/"
    },
    "executionInfo": {
     "elapsed": 31,
     "status": "ok",
     "timestamp": 1746819020158,
     "user": {
      "displayName": "Ewan Elwan",
      "userId": "01498003237207588680"
     },
     "user_tz": -180
    },
    "id": "DY5mneh8hnfv",
    "outputId": "cea3c2bc-8b70-4de1-dc2e-bc6b0152f266"
   },
   "outputs": [
    {
     "name": "stdout",
     "output_type": "stream",
     "text": [
      "<class 'float'>\n"
     ]
    }
   ],
   "source": [
    "print(type(4.))"
   ]
  },
  {
   "cell_type": "code",
   "execution_count": 36,
   "metadata": {
    "colab": {
     "base_uri": "https://localhost:8080/"
    },
    "executionInfo": {
     "elapsed": 66,
     "status": "ok",
     "timestamp": 1746819029913,
     "user": {
      "displayName": "Ewan Elwan",
      "userId": "01498003237207588680"
     },
     "user_tz": -180
    },
    "id": "x5IG2Wurhoba",
    "outputId": "a5a264c9-08cf-4e74-d3dd-a3d7771b44a5"
   },
   "outputs": [
    {
     "data": {
      "text/plain": [
       "4"
      ]
     },
     "execution_count": 36,
     "metadata": {},
     "output_type": "execute_result"
    }
   ],
   "source": [
    "4"
   ]
  },
  {
   "cell_type": "code",
   "execution_count": 37,
   "metadata": {
    "colab": {
     "base_uri": "https://localhost:8080/"
    },
    "executionInfo": {
     "elapsed": 32,
     "status": "ok",
     "timestamp": 1746819032054,
     "user": {
      "displayName": "Ewan Elwan",
      "userId": "01498003237207588680"
     },
     "user_tz": -180
    },
    "id": "xTJqqE2whxi4",
    "outputId": "8358c670-00f3-4e85-b2ea-b80a39792323"
   },
   "outputs": [
    {
     "data": {
      "text/plain": [
       "4.0"
      ]
     },
     "execution_count": 37,
     "metadata": {},
     "output_type": "execute_result"
    }
   ],
   "source": [
    "4.0"
   ]
  },
  {
   "cell_type": "code",
   "execution_count": 38,
   "metadata": {
    "colab": {
     "base_uri": "https://localhost:8080/"
    },
    "executionInfo": {
     "elapsed": 48,
     "status": "ok",
     "timestamp": 1746819076359,
     "user": {
      "displayName": "Ewan Elwan",
      "userId": "01498003237207588680"
     },
     "user_tz": -180
    },
    "id": "_-V9Mm9ShyI4",
    "outputId": "8ae0faad-2d58-4098-de96-6a73aac4b4d0"
   },
   "outputs": [
    {
     "data": {
      "text/plain": [
       "300000000.0"
      ]
     },
     "execution_count": 38,
     "metadata": {},
     "output_type": "execute_result"
    }
   ],
   "source": [
    "300000000\n",
    "3e8"
   ]
  },
  {
   "cell_type": "code",
   "execution_count": 39,
   "metadata": {
    "colab": {
     "base_uri": "https://localhost:8080/"
    },
    "executionInfo": {
     "elapsed": 18,
     "status": "ok",
     "timestamp": 1746819128543,
     "user": {
      "displayName": "Ewan Elwan",
      "userId": "01498003237207588680"
     },
     "user_tz": -180
    },
    "id": "muH50-jCh89K",
    "outputId": "b9897607-3ed5-4ad6-faa2-9902a5f5d063"
   },
   "outputs": [
    {
     "data": {
      "text/plain": [
       "6.62607e-34"
      ]
     },
     "execution_count": 39,
     "metadata": {},
     "output_type": "execute_result"
    }
   ],
   "source": [
    "6.62607e-34"
   ]
  },
  {
   "cell_type": "code",
   "execution_count": null,
   "metadata": {
    "id": "nMZH71BpiJtW"
   },
   "outputs": [],
   "source": [
    "1e-22"
   ]
  },
  {
   "cell_type": "code",
   "execution_count": 41,
   "metadata": {
    "colab": {
     "base_uri": "https://localhost:8080/",
     "height": 106
    },
    "executionInfo": {
     "elapsed": 20,
     "status": "error",
     "timestamp": 1746819277086,
     "user": {
      "displayName": "Ewan Elwan",
      "userId": "01498003237207588680"
     },
     "user_tz": -180
    },
    "id": "Jgkx6pjsiXNv",
    "outputId": "07ad49b1-47fe-43eb-f604-72c33869dce7"
   },
   "outputs": [
    {
     "ename": "SyntaxError",
     "evalue": "invalid syntax (<ipython-input-41-ff0e37bb1488>, line 1)",
     "output_type": "error",
     "traceback": [
      "\u001b[0;36m  File \u001b[0;32m\"<ipython-input-41-ff0e37bb1488>\"\u001b[0;36m, line \u001b[0;32m1\u001b[0m\n\u001b[0;31m    print('Hello\\n\\n\\nWorld') print('abc')\u001b[0m\n\u001b[0m                              ^\u001b[0m\n\u001b[0;31mSyntaxError\u001b[0m\u001b[0;31m:\u001b[0m invalid syntax\n"
     ]
    }
   ],
   "source": [
    "print('Hello\\n\\n\\nWorld') print('abc')"
   ]
  },
  {
   "cell_type": "code",
   "execution_count": 42,
   "metadata": {
    "colab": {
     "base_uri": "https://localhost:8080/"
    },
    "executionInfo": {
     "elapsed": 56,
     "status": "ok",
     "timestamp": 1746819636315,
     "user": {
      "displayName": "Ewan Elwan",
      "userId": "01498003237207588680"
     },
     "user_tz": -180
    },
    "id": "v-Ud-u1UihOz",
    "outputId": "76b072a0-5f67-4706-9d23-198ec55712a1"
   },
   "outputs": [
    {
     "name": "stdout",
     "output_type": "stream",
     "text": [
      "<class 'bool'>\n"
     ]
    }
   ],
   "source": [
    "print(type(True))"
   ]
  },
  {
   "cell_type": "code",
   "execution_count": 43,
   "metadata": {
    "colab": {
     "base_uri": "https://localhost:8080/"
    },
    "executionInfo": {
     "elapsed": 14,
     "status": "ok",
     "timestamp": 1746819677640,
     "user": {
      "displayName": "Ewan Elwan",
      "userId": "01498003237207588680"
     },
     "user_tz": -180
    },
    "id": "JrbaX0pAkFov",
    "outputId": "0bd84466-d759-487e-df93-00c5bbd14d63"
   },
   "outputs": [
    {
     "name": "stdout",
     "output_type": "stream",
     "text": [
      "True\n"
     ]
    }
   ],
   "source": [
    "print(True>False)"
   ]
  },
  {
   "cell_type": "code",
   "execution_count": 44,
   "metadata": {
    "colab": {
     "base_uri": "https://localhost:8080/"
    },
    "executionInfo": {
     "elapsed": 49,
     "status": "ok",
     "timestamp": 1746819691239,
     "user": {
      "displayName": "Ewan Elwan",
      "userId": "01498003237207588680"
     },
     "user_tz": -180
    },
    "id": "7RrO2wRPkPw5",
    "outputId": "e15fbb72-6dc2-4d91-ec20-f299801c08c3"
   },
   "outputs": [
    {
     "name": "stdout",
     "output_type": "stream",
     "text": [
      "False\n"
     ]
    }
   ],
   "source": [
    "print(False>True)"
   ]
  },
  {
   "cell_type": "code",
   "execution_count": null,
   "metadata": {
    "id": "0epEm3TmkTDT"
   },
   "outputs": [],
   "source": [
    "#arithmetic operators-> + - * / // % **\n",
    "123\n",
    "123+5"
   ]
  },
  {
   "cell_type": "code",
   "execution_count": 45,
   "metadata": {
    "colab": {
     "base_uri": "https://localhost:8080/"
    },
    "executionInfo": {
     "elapsed": 42,
     "status": "ok",
     "timestamp": 1746819968107,
     "user": {
      "displayName": "Ewan Elwan",
      "userId": "01498003237207588680"
     },
     "user_tz": -180
    },
    "id": "SGq7hxb-lM1-",
    "outputId": "3c9352ad-f92f-4cd8-9074-4076e76248d2"
   },
   "outputs": [
    {
     "data": {
      "text/plain": [
       "8"
      ]
     },
     "execution_count": 45,
     "metadata": {},
     "output_type": "execute_result"
    }
   ],
   "source": [
    "#** exponentiation\n",
    "2**3"
   ]
  },
  {
   "cell_type": "code",
   "execution_count": 46,
   "metadata": {
    "colab": {
     "base_uri": "https://localhost:8080/"
    },
    "executionInfo": {
     "elapsed": 32,
     "status": "ok",
     "timestamp": 1746819993699,
     "user": {
      "displayName": "Ewan Elwan",
      "userId": "01498003237207588680"
     },
     "user_tz": -180
    },
    "id": "PJQt2gtnlWqd",
    "outputId": "87f7dde5-f283-43dd-dec2-8ca66a83a16c"
   },
   "outputs": [
    {
     "data": {
      "text/plain": [
       "8.0"
      ]
     },
     "execution_count": 46,
     "metadata": {},
     "output_type": "execute_result"
    }
   ],
   "source": [
    "2.**3"
   ]
  },
  {
   "cell_type": "code",
   "execution_count": 47,
   "metadata": {
    "colab": {
     "base_uri": "https://localhost:8080/"
    },
    "executionInfo": {
     "elapsed": 16,
     "status": "ok",
     "timestamp": 1746820090762,
     "user": {
      "displayName": "Ewan Elwan",
      "userId": "01498003237207588680"
     },
     "user_tz": -180
    },
    "id": "uv8vUvR5lc7T",
    "outputId": "659d78fc-d746-4d1a-cf52-8b926e4dd992"
   },
   "outputs": [
    {
     "data": {
      "text/plain": [
       "6"
      ]
     },
     "execution_count": 47,
     "metadata": {},
     "output_type": "execute_result"
    }
   ],
   "source": [
    "#* multiplication\n",
    "2*3"
   ]
  },
  {
   "cell_type": "code",
   "execution_count": 48,
   "metadata": {
    "colab": {
     "base_uri": "https://localhost:8080/"
    },
    "executionInfo": {
     "elapsed": 36,
     "status": "ok",
     "timestamp": 1746820101260,
     "user": {
      "displayName": "Ewan Elwan",
      "userId": "01498003237207588680"
     },
     "user_tz": -180
    },
    "id": "df7-IXhhl0oF",
    "outputId": "d15a1176-b450-4e30-ab60-46d424203f70"
   },
   "outputs": [
    {
     "data": {
      "text/plain": [
       "6.0"
      ]
     },
     "execution_count": 48,
     "metadata": {},
     "output_type": "execute_result"
    }
   ],
   "source": [
    "2*3."
   ]
  },
  {
   "cell_type": "code",
   "execution_count": 49,
   "metadata": {
    "colab": {
     "base_uri": "https://localhost:8080/"
    },
    "executionInfo": {
     "elapsed": 15,
     "status": "ok",
     "timestamp": 1746820106609,
     "user": {
      "displayName": "Ewan Elwan",
      "userId": "01498003237207588680"
     },
     "user_tz": -180
    },
    "id": "Q5g1FM5Dl3HZ",
    "outputId": "7e9c7fd2-cc81-4ee3-8c28-2228ef8d36f3"
   },
   "outputs": [
    {
     "data": {
      "text/plain": [
       "6.0"
      ]
     },
     "execution_count": 49,
     "metadata": {},
     "output_type": "execute_result"
    }
   ],
   "source": [
    "2.*3"
   ]
  },
  {
   "cell_type": "code",
   "execution_count": 50,
   "metadata": {
    "colab": {
     "base_uri": "https://localhost:8080/"
    },
    "executionInfo": {
     "elapsed": 33,
     "status": "ok",
     "timestamp": 1746820110749,
     "user": {
      "displayName": "Ewan Elwan",
      "userId": "01498003237207588680"
     },
     "user_tz": -180
    },
    "id": "KMtmgx0Sl4fc",
    "outputId": "19280303-8b60-480a-b59d-f73460776428"
   },
   "outputs": [
    {
     "data": {
      "text/plain": [
       "6.0"
      ]
     },
     "execution_count": 50,
     "metadata": {},
     "output_type": "execute_result"
    }
   ],
   "source": [
    "2.*3."
   ]
  },
  {
   "cell_type": "code",
   "execution_count": 51,
   "metadata": {
    "colab": {
     "base_uri": "https://localhost:8080/"
    },
    "executionInfo": {
     "elapsed": 88,
     "status": "ok",
     "timestamp": 1746820166056,
     "user": {
      "displayName": "Ewan Elwan",
      "userId": "01498003237207588680"
     },
     "user_tz": -180
    },
    "id": "XRA4HAiUl5e0",
    "outputId": "23dd010a-f64c-4f20-cf53-f2794bd5653c"
   },
   "outputs": [
    {
     "data": {
      "text/plain": [
       "2.0"
      ]
     },
     "execution_count": 51,
     "metadata": {},
     "output_type": "execute_result"
    }
   ],
   "source": [
    "#/ division\n",
    "6/3"
   ]
  },
  {
   "cell_type": "code",
   "execution_count": null,
   "metadata": {
    "id": "twqIvSj6mG-r"
   },
   "outputs": [],
   "source": [
    "#// integer divison (floor division)"
   ]
  },
  {
   "cell_type": "code",
   "execution_count": 52,
   "metadata": {
    "colab": {
     "base_uri": "https://localhost:8080/"
    },
    "executionInfo": {
     "elapsed": 16,
     "status": "ok",
     "timestamp": 1746820277169,
     "user": {
      "displayName": "Ewan Elwan",
      "userId": "01498003237207588680"
     },
     "user_tz": -180
    },
    "id": "7mfUZyNUmg_h",
    "outputId": "955ea2f1-bc1e-4160-e0c5-ec122cc30a0b"
   },
   "outputs": [
    {
     "data": {
      "text/plain": [
       "2.5"
      ]
     },
     "execution_count": 52,
     "metadata": {},
     "output_type": "execute_result"
    }
   ],
   "source": [
    "5/2"
   ]
  },
  {
   "cell_type": "code",
   "execution_count": 53,
   "metadata": {
    "colab": {
     "base_uri": "https://localhost:8080/"
    },
    "executionInfo": {
     "elapsed": 17,
     "status": "ok",
     "timestamp": 1746820317488,
     "user": {
      "displayName": "Ewan Elwan",
      "userId": "01498003237207588680"
     },
     "user_tz": -180
    },
    "id": "XtBYrTjemiH2",
    "outputId": "9eb0b20f-c052-4f06-99d4-0562135896d1"
   },
   "outputs": [
    {
     "data": {
      "text/plain": [
       "2"
      ]
     },
     "execution_count": 53,
     "metadata": {},
     "output_type": "execute_result"
    }
   ],
   "source": [
    "5//2"
   ]
  },
  {
   "cell_type": "code",
   "execution_count": 54,
   "metadata": {
    "colab": {
     "base_uri": "https://localhost:8080/"
    },
    "executionInfo": {
     "elapsed": 37,
     "status": "ok",
     "timestamp": 1746820343361,
     "user": {
      "displayName": "Ewan Elwan",
      "userId": "01498003237207588680"
     },
     "user_tz": -180
    },
    "id": "jcWZ_JUomr84",
    "outputId": "2fd520f8-10d1-4376-8f69-6551a3913298"
   },
   "outputs": [
    {
     "data": {
      "text/plain": [
       "2.0"
      ]
     },
     "execution_count": 54,
     "metadata": {},
     "output_type": "execute_result"
    }
   ],
   "source": [
    "5.//2"
   ]
  },
  {
   "cell_type": "code",
   "execution_count": 55,
   "metadata": {
    "colab": {
     "base_uri": "https://localhost:8080/"
    },
    "executionInfo": {
     "elapsed": 21,
     "status": "ok",
     "timestamp": 1746820411786,
     "user": {
      "displayName": "Ewan Elwan",
      "userId": "01498003237207588680"
     },
     "user_tz": -180
    },
    "id": "wggd2lX5mySf",
    "outputId": "58f04a85-ab21-4f21-8a59-2a87fc88b1c0"
   },
   "outputs": [
    {
     "data": {
      "text/plain": [
       "3"
      ]
     },
     "execution_count": 55,
     "metadata": {},
     "output_type": "execute_result"
    }
   ],
   "source": [
    "import math\n",
    "math.ceil(2.5)"
   ]
  },
  {
   "cell_type": "code",
   "execution_count": 56,
   "metadata": {
    "colab": {
     "base_uri": "https://localhost:8080/"
    },
    "executionInfo": {
     "elapsed": 78,
     "status": "ok",
     "timestamp": 1746820486483,
     "user": {
      "displayName": "Ewan Elwan",
      "userId": "01498003237207588680"
     },
     "user_tz": -180
    },
    "id": "yW_uI-3VnC-D",
    "outputId": "189bdd70-3b6f-479b-9c23-57a5925ec5f4"
   },
   "outputs": [
    {
     "data": {
      "text/plain": [
       "-3"
      ]
     },
     "execution_count": 56,
     "metadata": {},
     "output_type": "execute_result"
    }
   ],
   "source": [
    "-5//2"
   ]
  },
  {
   "cell_type": "code",
   "execution_count": 57,
   "metadata": {
    "colab": {
     "base_uri": "https://localhost:8080/"
    },
    "executionInfo": {
     "elapsed": 16,
     "status": "ok",
     "timestamp": 1746820541271,
     "user": {
      "displayName": "Ewan Elwan",
      "userId": "01498003237207588680"
     },
     "user_tz": -180
    },
    "id": "TbaJlrgPnVNq",
    "outputId": "c25efffd-1e5c-40ff-aca0-76a76532f66d"
   },
   "outputs": [
    {
     "data": {
      "text/plain": [
       "2"
      ]
     },
     "execution_count": 57,
     "metadata": {},
     "output_type": "execute_result"
    }
   ],
   "source": [
    "#% remainder (modulo)\n",
    "14%4"
   ]
  },
  {
   "cell_type": "code",
   "execution_count": 58,
   "metadata": {
    "colab": {
     "base_uri": "https://localhost:8080/"
    },
    "executionInfo": {
     "elapsed": 66,
     "status": "ok",
     "timestamp": 1746820609461,
     "user": {
      "displayName": "Ewan Elwan",
      "userId": "01498003237207588680"
     },
     "user_tz": -180
    },
    "id": "LWIRcORknimn",
    "outputId": "08e5f638-f150-474b-ff5b-917138eb694c"
   },
   "outputs": [
    {
     "data": {
      "text/plain": [
       "3.0"
      ]
     },
     "execution_count": 58,
     "metadata": {},
     "output_type": "execute_result"
    }
   ],
   "source": [
    " 12%4.5"
   ]
  },
  {
   "cell_type": "code",
   "execution_count": 59,
   "metadata": {
    "colab": {
     "base_uri": "https://localhost:8080/"
    },
    "executionInfo": {
     "elapsed": 18,
     "status": "ok",
     "timestamp": 1746820709565,
     "user": {
      "displayName": "Ewan Elwan",
      "userId": "01498003237207588680"
     },
     "user_tz": -180
    },
    "id": "QXZseIaznzPD",
    "outputId": "0c13886e-ec54-47b5-e000-616fa963a5a8"
   },
   "outputs": [
    {
     "data": {
      "text/plain": [
       "0"
      ]
     },
     "execution_count": 59,
     "metadata": {},
     "output_type": "execute_result"
    }
   ],
   "source": [
    "-4 + 4"
   ]
  },
  {
   "cell_type": "code",
   "execution_count": 60,
   "metadata": {
    "colab": {
     "base_uri": "https://localhost:8080/"
    },
    "executionInfo": {
     "elapsed": 57,
     "status": "ok",
     "timestamp": 1746820720102,
     "user": {
      "displayName": "Ewan Elwan",
      "userId": "01498003237207588680"
     },
     "user_tz": -180
    },
    "id": "gSCmkYNQoLrf",
    "outputId": "9d8f4454-77a4-44ed-aba7-fc3f8e218fb1"
   },
   "outputs": [
    {
     "data": {
      "text/plain": [
       "4.0"
      ]
     },
     "execution_count": 60,
     "metadata": {},
     "output_type": "execute_result"
    }
   ],
   "source": [
    "-4 +8."
   ]
  },
  {
   "cell_type": "code",
   "execution_count": 61,
   "metadata": {
    "colab": {
     "base_uri": "https://localhost:8080/"
    },
    "executionInfo": {
     "elapsed": 22,
     "status": "ok",
     "timestamp": 1746820747884,
     "user": {
      "displayName": "Ewan Elwan",
      "userId": "01498003237207588680"
     },
     "user_tz": -180
    },
    "id": "mjl84cAloOPM",
    "outputId": "f488696a-ea04-42d4-a76e-6105ed6dcd7a"
   },
   "outputs": [
    {
     "data": {
      "text/plain": [
       "-4"
      ]
     },
     "execution_count": 61,
     "metadata": {},
     "output_type": "execute_result"
    }
   ],
   "source": [
    "-#unary operator"
   ]
  },
  {
   "cell_type": "code",
   "execution_count": 62,
   "metadata": {
    "colab": {
     "base_uri": "https://localhost:8080/"
    },
    "executionInfo": {
     "elapsed": 34,
     "status": "ok",
     "timestamp": 1746820787908,
     "user": {
      "displayName": "Ewan Elwan",
      "userId": "01498003237207588680"
     },
     "user_tz": -180
    },
    "id": "azq2wzUloU8i",
    "outputId": "613f6abd-9f04-40ce-df28-a101bcf81683"
   },
   "outputs": [
    {
     "data": {
      "text/plain": [
       "2"
      ]
     },
     "execution_count": 62,
     "metadata": {},
     "output_type": "execute_result"
    }
   ],
   "source": [
    "3-1"
   ]
  },
  {
   "cell_type": "code",
   "execution_count": 63,
   "metadata": {
    "colab": {
     "base_uri": "https://localhost:8080/"
    },
    "executionInfo": {
     "elapsed": 15,
     "status": "ok",
     "timestamp": 1746820791678,
     "user": {
      "displayName": "Ewan Elwan",
      "userId": "01498003237207588680"
     },
     "user_tz": -180
    },
    "id": "RiPRbJKSoe0V",
    "outputId": "ebf343ab-b7e0-4f19-d80c-966a9c43c7dd"
   },
   "outputs": [
    {
     "data": {
      "text/plain": [
       "1.0"
      ]
     },
     "execution_count": 63,
     "metadata": {},
     "output_type": "execute_result"
    }
   ],
   "source": [
    "3-2."
   ]
  },
  {
   "cell_type": "code",
   "execution_count": 64,
   "metadata": {
    "colab": {
     "base_uri": "https://localhost:8080/"
    },
    "executionInfo": {
     "elapsed": 37,
     "status": "ok",
     "timestamp": 1746820805623,
     "user": {
      "displayName": "Ewan Elwan",
      "userId": "01498003237207588680"
     },
     "user_tz": -180
    },
    "id": "eFb8o4AQoft8",
    "outputId": "ce7661d4-2f27-42a8-a457-167e652edce5"
   },
   "outputs": [
    {
     "data": {
      "text/plain": [
       "2"
      ]
     },
     "execution_count": 64,
     "metadata": {},
     "output_type": "execute_result"
    }
   ],
   "source": [
    "+2"
   ]
  },
  {
   "cell_type": "code",
   "execution_count": 65,
   "metadata": {
    "colab": {
     "base_uri": "https://localhost:8080/"
    },
    "executionInfo": {
     "elapsed": 104,
     "status": "ok",
     "timestamp": 1746820895140,
     "user": {
      "displayName": "Ewan Elwan",
      "userId": "01498003237207588680"
     },
     "user_tz": -180
    },
    "id": "p5jvtZnSojAI",
    "outputId": "f3fed483-008d-454e-9357-ad1164dcee96"
   },
   "outputs": [
    {
     "data": {
      "text/plain": [
       "1"
      ]
     },
     "execution_count": 65,
     "metadata": {},
     "output_type": "execute_result"
    }
   ],
   "source": [
    "9%6%2"
   ]
  },
  {
   "cell_type": "code",
   "execution_count": 66,
   "metadata": {
    "colab": {
     "base_uri": "https://localhost:8080/"
    },
    "executionInfo": {
     "elapsed": 64,
     "status": "ok",
     "timestamp": 1746821179721,
     "user": {
      "displayName": "Ewan Elwan",
      "userId": "01498003237207588680"
     },
     "user_tz": -180
    },
    "id": "RRuvTKBUo4-q",
    "outputId": "c8e3ac15-958c-421c-942c-461ec246c353"
   },
   "outputs": [
    {
     "data": {
      "text/plain": [
       "256"
      ]
     },
     "execution_count": 66,
     "metadata": {},
     "output_type": "execute_result"
    }
   ],
   "source": [
    "2**2**3"
   ]
  },
  {
   "cell_type": "code",
   "execution_count": 67,
   "metadata": {
    "colab": {
     "base_uri": "https://localhost:8080/"
    },
    "executionInfo": {
     "elapsed": 91,
     "status": "ok",
     "timestamp": 1746821211287,
     "user": {
      "displayName": "Ewan Elwan",
      "userId": "01498003237207588680"
     },
     "user_tz": -180
    },
    "id": "bn8muoPUp-c1",
    "outputId": "7c8a7c73-308a-4bbc-94aa-55aaad9ffed4"
   },
   "outputs": [
    {
     "data": {
      "text/plain": [
       "1"
      ]
     },
     "execution_count": 67,
     "metadata": {},
     "output_type": "execute_result"
    }
   ],
   "source": [
    "2*3%5"
   ]
  },
  {
   "cell_type": "code",
   "execution_count": null,
   "metadata": {
    "id": "Q5o37xRCqGIG"
   },
   "outputs": [],
   "source": [
    "#Operator Priorities\n",
    "()\n",
    "**\n",
    "+- unary\n",
    "* / // %\n",
    "+ - binary"
   ]
  },
  {
   "cell_type": "code",
   "execution_count": 68,
   "metadata": {
    "colab": {
     "base_uri": "https://localhost:8080/"
    },
    "executionInfo": {
     "elapsed": 24,
     "status": "ok",
     "timestamp": 1746821368898,
     "user": {
      "displayName": "Ewan Elwan",
      "userId": "01498003237207588680"
     },
     "user_tz": -180
    },
    "id": "3IJ1ViU9qiBU",
    "outputId": "113bf533-1129-45ce-c920-6e5f9aa3a117"
   },
   "outputs": [
    {
     "data": {
      "text/plain": [
       "7.0"
      ]
     },
     "execution_count": 68,
     "metadata": {},
     "output_type": "execute_result"
    }
   ],
   "source": [
    "3 + 4."
   ]
  },
  {
   "cell_type": "code",
   "execution_count": 69,
   "metadata": {
    "executionInfo": {
     "elapsed": 7,
     "status": "ok",
     "timestamp": 1746821588913,
     "user": {
      "displayName": "Ewan Elwan",
      "userId": "01498003237207588680"
     },
     "user_tz": -180
    },
    "id": "XF_M-WlOqspv"
   },
   "outputs": [],
   "source": [
    "print = 3"
   ]
  },
  {
   "cell_type": "code",
   "execution_count": 70,
   "metadata": {
    "colab": {
     "base_uri": "https://localhost:8080/",
     "height": 141
    },
    "executionInfo": {
     "elapsed": 51,
     "status": "error",
     "timestamp": 1746821605410,
     "user": {
      "displayName": "Ewan Elwan",
      "userId": "01498003237207588680"
     },
     "user_tz": -180
    },
    "id": "dGOY-MkDriX2",
    "outputId": "773a57ad-7e3d-4841-b69b-582fc59e0471"
   },
   "outputs": [
    {
     "ename": "TypeError",
     "evalue": "'int' object is not callable",
     "output_type": "error",
     "traceback": [
      "\u001b[0;31m---------------------------------------------------------------------------\u001b[0m",
      "\u001b[0;31mTypeError\u001b[0m                                 Traceback (most recent call last)",
      "\u001b[0;32m<ipython-input-70-2223c92d0779>\u001b[0m in \u001b[0;36m<cell line: 0>\u001b[0;34m()\u001b[0m\n\u001b[0;32m----> 1\u001b[0;31m \u001b[0mprint\u001b[0m\u001b[0;34m(\u001b[0m\u001b[0mprint\u001b[0m\u001b[0;34m)\u001b[0m\u001b[0;34m\u001b[0m\u001b[0;34m\u001b[0m\u001b[0m\n\u001b[0m",
      "\u001b[0;31mTypeError\u001b[0m: 'int' object is not callable"
     ]
    }
   ],
   "source": [
    "print(print)"
   ]
  },
  {
   "cell_type": "code",
   "execution_count": null,
   "metadata": {
    "id": "DKNZtkHErmSS"
   },
   "outputs": [],
   "source": [
    "10t\n",
    "!important\n",
    "exchange rate"
   ]
  },
  {
   "cell_type": "code",
   "execution_count": null,
   "metadata": {
    "id": "-fwpTDOzr-Eb"
   },
   "outputs": [],
   "source": [
    "t34\n",
    "_\n",
    "exchange_rate\n",
    "exchangeRate\n",
    "i\n",
    "I"
   ]
  },
  {
   "cell_type": "code",
   "execution_count": 1,
   "metadata": {
    "colab": {
     "base_uri": "https://localhost:8080/",
     "height": 106
    },
    "executionInfo": {
     "elapsed": 67,
     "status": "error",
     "timestamp": 1746821790659,
     "user": {
      "displayName": "Ewan Elwan",
      "userId": "01498003237207588680"
     },
     "user_tz": -180
    },
    "id": "sY2FH91wsQFp",
    "outputId": "e69407cb-6f56-4cb9-f33b-4a235c762f92"
   },
   "outputs": [
    {
     "ename": "SyntaxError",
     "evalue": "invalid syntax (<ipython-input-1-67d92f5c0f6b>, line 1)",
     "output_type": "error",
     "traceback": [
      "\u001b[0;36m  File \u001b[0;32m\"<ipython-input-1-67d92f5c0f6b>\"\u001b[0;36m, line \u001b[0;32m1\u001b[0m\n\u001b[0;31m    import  = 3\u001b[0m\n\u001b[0m            ^\u001b[0m\n\u001b[0;31mSyntaxError\u001b[0m\u001b[0;31m:\u001b[0m invalid syntax\n"
     ]
    }
   ],
   "source": [
    "import  = 3"
   ]
  },
  {
   "cell_type": "code",
   "execution_count": 2,
   "metadata": {
    "colab": {
     "base_uri": "https://localhost:8080/"
    },
    "executionInfo": {
     "elapsed": 16,
     "status": "ok",
     "timestamp": 1746821857753,
     "user": {
      "displayName": "Ewan Elwan",
      "userId": "01498003237207588680"
     },
     "user_tz": -180
    },
    "id": "pIYD6Y01sRc4",
    "outputId": "bbdf4bb1-86b6-4f2c-ae26-11ec4ef18b35"
   },
   "outputs": [
    {
     "name": "stdout",
     "output_type": "stream",
     "text": [
      "1\n"
     ]
    }
   ],
   "source": [
    "var = 1\n",
    "print(var)"
   ]
  },
  {
   "cell_type": "code",
   "execution_count": 3,
   "metadata": {
    "colab": {
     "base_uri": "https://localhost:8080/"
    },
    "executionInfo": {
     "elapsed": 19,
     "status": "ok",
     "timestamp": 1746821864565,
     "user": {
      "displayName": "Ewan Elwan",
      "userId": "01498003237207588680"
     },
     "user_tz": -180
    },
    "id": "YRcSsaxUsj_B",
    "outputId": "6a5e3cd9-e555-409a-b30f-0c21cbf0ba05"
   },
   "outputs": [
    {
     "name": "stdout",
     "output_type": "stream",
     "text": [
      "<class 'int'>\n"
     ]
    }
   ],
   "source": [
    "print(type(var))"
   ]
  },
  {
   "cell_type": "code",
   "execution_count": 4,
   "metadata": {
    "executionInfo": {
     "elapsed": 10,
     "status": "ok",
     "timestamp": 1746821904908,
     "user": {
      "displayName": "Ewan Elwan",
      "userId": "01498003237207588680"
     },
     "user_tz": -180
    },
    "id": "H_pERgaoslnU"
   },
   "outputs": [],
   "source": [
    "var = var +1"
   ]
  },
  {
   "cell_type": "code",
   "execution_count": 5,
   "metadata": {
    "colab": {
     "base_uri": "https://localhost:8080/"
    },
    "executionInfo": {
     "elapsed": 15,
     "status": "ok",
     "timestamp": 1746821911360,
     "user": {
      "displayName": "Ewan Elwan",
      "userId": "01498003237207588680"
     },
     "user_tz": -180
    },
    "id": "QgvurYM2svfw",
    "outputId": "c2638727-22a2-4379-8708-cd0f4cb596cd"
   },
   "outputs": [
    {
     "name": "stdout",
     "output_type": "stream",
     "text": [
      "2\n"
     ]
    }
   ],
   "source": [
    "print(var)"
   ]
  },
  {
   "cell_type": "code",
   "execution_count": 6,
   "metadata": {
    "executionInfo": {
     "elapsed": 6,
     "status": "ok",
     "timestamp": 1746821917286,
     "user": {
      "displayName": "Ewan Elwan",
      "userId": "01498003237207588680"
     },
     "user_tz": -180
    },
    "id": "c1AE1fBjsxEW"
   },
   "outputs": [],
   "source": [
    "var = 'marwa'"
   ]
  },
  {
   "cell_type": "code",
   "execution_count": 7,
   "metadata": {
    "colab": {
     "base_uri": "https://localhost:8080/"
    },
    "executionInfo": {
     "elapsed": 74,
     "status": "ok",
     "timestamp": 1746821924091,
     "user": {
      "displayName": "Ewan Elwan",
      "userId": "01498003237207588680"
     },
     "user_tz": -180
    },
    "id": "W1DkiP5Zsyht",
    "outputId": "d0472510-533e-4fd6-881b-e75dec4b491e"
   },
   "outputs": [
    {
     "name": "stdout",
     "output_type": "stream",
     "text": [
      "marwa\n"
     ]
    }
   ],
   "source": [
    "print(var)"
   ]
  },
  {
   "cell_type": "code",
   "execution_count": null,
   "metadata": {
    "id": "sxHMniGVs0B_"
   },
   "outputs": [],
   "source": [
    "x = 3\n",
    "x = x + 4#x+=4"
   ]
  },
  {
   "cell_type": "code",
   "execution_count": null,
   "metadata": {
    "id": "h7tzUn6DtZDJ"
   },
   "outputs": [],
   "source": [
    "variable=variable op expression\n",
    "variable op=expression"
   ]
  },
  {
   "cell_type": "code",
   "execution_count": 8,
   "metadata": {
    "colab": {
     "base_uri": "https://localhost:8080/"
    },
    "executionInfo": {
     "elapsed": 15,
     "status": "ok",
     "timestamp": 1746822149228,
     "user": {
      "displayName": "Ewan Elwan",
      "userId": "01498003237207588680"
     },
     "user_tz": -180
    },
    "id": "02Hyjm4DtnuX",
    "outputId": "b60c4fcc-804e-4256-e59a-e32d4d69612d"
   },
   "outputs": [
    {
     "data": {
      "text/plain": [
       "7"
      ]
     },
     "execution_count": 8,
     "metadata": {},
     "output_type": "execute_result"
    }
   ],
   "source": [
    "x=3\n",
    "x+=4\n",
    "x"
   ]
  },
  {
   "cell_type": "code",
   "execution_count": null,
   "metadata": {
    "id": "yKs3vlEUtrIa"
   },
   "outputs": [],
   "source": [
    "j = j - (i+var+rem) ---> j-=(i+var+rem)"
   ]
  },
  {
   "cell_type": "code",
   "execution_count": null,
   "metadata": {
    "id": "o1Ih-iJvt72S"
   },
   "outputs": [],
   "source": [
    "x=x**2\n",
    "x**=2"
   ]
  },
  {
   "cell_type": "code",
   "execution_count": 9,
   "metadata": {
    "colab": {
     "base_uri": "https://localhost:8080/",
     "height": 35
    },
    "executionInfo": {
     "elapsed": 32,
     "status": "ok",
     "timestamp": 1746822363067,
     "user": {
      "displayName": "Ewan Elwan",
      "userId": "01498003237207588680"
     },
     "user_tz": -180
    },
    "id": "LmpxZLrpuOwI",
    "outputId": "8222e12d-7dd7-4d3d-f532-ab943145530c"
   },
   "outputs": [
    {
     "data": {
      "application/vnd.google.colaboratory.intrinsic+json": {
       "type": "string"
      },
      "text/plain": [
       "' This\\nis\\na\\nmulti\\nline\\ncomment\\n'"
      ]
     },
     "execution_count": 9,
     "metadata": {},
     "output_type": "execute_result"
    }
   ],
   "source": [
    "#single line comment\n",
    "''' This\n",
    "is\n",
    "a\n",
    "multi\n",
    "line\n",
    "comment\n",
    "'''"
   ]
  },
  {
   "cell_type": "code",
   "execution_count": 10,
   "metadata": {
    "colab": {
     "base_uri": "https://localhost:8080/"
    },
    "executionInfo": {
     "elapsed": 91,
     "status": "ok",
     "timestamp": 1746822401776,
     "user": {
      "displayName": "Ewan Elwan",
      "userId": "01498003237207588680"
     },
     "user_tz": -180
    },
    "id": "0HmrMKd1ufQg",
    "outputId": "fb9e49f2-5c4b-4a5a-e566-faa4ef88e783"
   },
   "outputs": [
    {
     "name": "stdout",
     "output_type": "stream",
     "text": [
      " This\n",
      "is\n",
      "a\n",
      "paragraph\n"
     ]
    }
   ],
   "source": [
    "print(''' This\n",
    "is\n",
    "a\n",
    "paragraph''')"
   ]
  },
  {
   "cell_type": "code",
   "execution_count": null,
   "metadata": {
    "id": "qTtGxbOtuoxP"
   },
   "outputs": [],
   "source": [
    "#lab 1\n",
    "startHour = 23\n",
    "startMin = 56\n",
    "durationInMin = 70\n",
    "\n",
    "####\n",
    "####\n",
    "####\n",
    "endHour=?\n",
    "endMin=?"
   ]
  }
 ],
 "metadata": {
  "colab": {
   "authorship_tag": "ABX9TyMwXlr7/o/DPoLnkls14bwP",
   "provenance": []
  },
  "kernelspec": {
   "display_name": "Python 3 (ipykernel)",
   "language": "python",
   "name": "python3"
  },
  "language_info": {
   "codemirror_mode": {
    "name": "ipython",
    "version": 3
   },
   "file_extension": ".py",
   "mimetype": "text/x-python",
   "name": "python",
   "nbconvert_exporter": "python",
   "pygments_lexer": "ipython3",
   "version": "3.12.7"
  }
 },
 "nbformat": 4,
 "nbformat_minor": 4
}
