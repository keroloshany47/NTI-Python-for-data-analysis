{
  "cells": [
    {
      "cell_type": "code",
      "execution_count": null,
      "metadata": {
        "id": "Xt3grnkF41rL"
      },
      "outputs": [],
      "source": [
        "import numpy as np"
      ]
    },
    {
      "cell_type": "code",
      "execution_count": null,
      "metadata": {
        "colab": {
          "base_uri": "https://localhost:8080/"
        },
        "id": "WdJgX5lPCa9Z",
        "outputId": "f2854195-4a03-4228-8a5e-396d499d4443"
      },
      "outputs": [
        {
          "name": "stdout",
          "output_type": "stream",
          "text": [
            "[0.37454012 0.95071431 0.73199394]\n",
            "[-1.11188012  0.31890218  0.27904129]\n",
            "[0.37454012 0.95071431 0.73199394]\n"
          ]
        }
      ],
      "source": [
        "rs = np.random.RandomState(seed=42)\n",
        "print(rs.rand(3))\n",
        "print(rs.randn(3))\n",
        "rs = np.random.RandomState(seed=42)\n",
        "print(rs.rand(3))"
      ]
    },
    {
      "cell_type": "code",
      "execution_count": null,
      "metadata": {
        "colab": {
          "base_uri": "https://localhost:8080/"
        },
        "id": "-g-M7AJjGTM1",
        "outputId": "c91f2795-218e-4b5b-9527-a7adae996597"
      },
      "outputs": [
        {
          "data": {
            "text/plain": [
              "array([0.77395605, 0.43887844, 0.85859792])"
            ]
          },
          "execution_count": 5,
          "metadata": {},
          "output_type": "execute_result"
        }
      ],
      "source": [
        "rng1= np.random.default_rng(seed=42)\n",
        "rng1.random(3)"
      ]
    },
    {
      "cell_type": "code",
      "execution_count": null,
      "metadata": {
        "colab": {
          "base_uri": "https://localhost:8080/"
        },
        "id": "nn-rz44YGnrl",
        "outputId": "4ec4e1e8-2b38-4c5d-dfa6-c42959ad931c"
      },
      "outputs": [
        {
          "data": {
            "text/plain": [
              "array([0.77395605, 0.43887844, 0.85859792])"
            ]
          },
          "execution_count": 6,
          "metadata": {},
          "output_type": "execute_result"
        }
      ],
      "source": [
        "rng2= np.random.default_rng(seed=42)\n",
        "rng2.random(3)"
      ]
    },
    {
      "cell_type": "code",
      "execution_count": null,
      "metadata": {
        "colab": {
          "base_uri": "https://localhost:8080/"
        },
        "id": "Lup9sQbbG_sv",
        "outputId": "17faf964-d4d4-4911-d99c-fd726e6c4ab7"
      },
      "outputs": [
        {
          "data": {
            "text/plain": [
              "array([0.69736803, 0.09417735, 0.97562235])"
            ]
          },
          "execution_count": 7,
          "metadata": {},
          "output_type": "execute_result"
        }
      ],
      "source": [
        "rng1.random(3)"
      ]
    },
    {
      "cell_type": "code",
      "execution_count": null,
      "metadata": {
        "colab": {
          "base_uri": "https://localhost:8080/"
        },
        "id": "bJrCVZrXHCdP",
        "outputId": "5e380a83-9a1c-440f-c1f5-722d30a5890a"
      },
      "outputs": [
        {
          "data": {
            "text/plain": [
              "array([5, 5, 5, 5, 4])"
            ]
          },
          "execution_count": 8,
          "metadata": {},
          "output_type": "execute_result"
        }
      ],
      "source": [
        "rng1.integers(1,7,size=5)"
      ]
    },
    {
      "cell_type": "code",
      "execution_count": null,
      "metadata": {
        "colab": {
          "base_uri": "https://localhost:8080/"
        },
        "id": "NzLkeqEYHXOr",
        "outputId": "f4c73433-dd05-4e51-8836-b4f979e72a6f"
      },
      "outputs": [
        {
          "data": {
            "text/plain": [
              "array(['apple', 'cherry', 'banana', 'banana'], dtype='<U6')"
            ]
          },
          "execution_count": 9,
          "metadata": {},
          "output_type": "execute_result"
        }
      ],
      "source": [
        "arr = ['apple','banana','cherry']\n",
        "rng1.choice(arr,size=4)"
      ]
    },
    {
      "cell_type": "code",
      "execution_count": null,
      "metadata": {
        "id": "akBkdi0lHkLU"
      },
      "outputs": [],
      "source": [
        "num = np.array([1,2,3,4,5])\n",
        "rng1.shuffle(num)#inplace shuffling"
      ]
    },
    {
      "cell_type": "code",
      "execution_count": null,
      "metadata": {
        "colab": {
          "base_uri": "https://localhost:8080/"
        },
        "id": "CNNVaiiOHu9I",
        "outputId": "ce149d7f-1de9-46c8-d601-064de4f0e688"
      },
      "outputs": [
        {
          "data": {
            "text/plain": [
              "array([2, 1, 3, 5, 4])"
            ]
          },
          "execution_count": 11,
          "metadata": {},
          "output_type": "execute_result"
        }
      ],
      "source": [
        "num"
      ]
    },
    {
      "cell_type": "code",
      "execution_count": null,
      "metadata": {
        "colab": {
          "base_uri": "https://localhost:8080/"
        },
        "id": "uA8tREOwHv02",
        "outputId": "e302fe73-e167-4af0-8f89-2e90528668e0"
      },
      "outputs": [
        {
          "data": {
            "text/plain": [
              "array([2, 5, 4, 3, 1])"
            ]
          },
          "execution_count": 12,
          "metadata": {},
          "output_type": "execute_result"
        }
      ],
      "source": [
        "rng1.permutation(num)"
      ]
    },
    {
      "cell_type": "code",
      "execution_count": null,
      "metadata": {
        "colab": {
          "base_uri": "https://localhost:8080/"
        },
        "id": "wNyQnTLXH5f2",
        "outputId": "1cc07c0d-b70c-46e2-89cf-7a0b8c69bc02"
      },
      "outputs": [
        {
          "data": {
            "text/plain": [
              "array([2, 1, 3, 5, 4])"
            ]
          },
          "execution_count": 13,
          "metadata": {},
          "output_type": "execute_result"
        }
      ],
      "source": [
        "num"
      ]
    },
    {
      "cell_type": "code",
      "execution_count": null,
      "metadata": {
        "colab": {
          "base_uri": "https://localhost:8080/"
        },
        "id": "VfQSw05DH6yY",
        "outputId": "2fdb63a7-3202-4eae-db6a-e135b93ff7d6"
      },
      "outputs": [
        {
          "data": {
            "text/plain": [
              "array([[ 0.55979371,  0.92854449],\n",
              "       [ 0.39119154,  1.26964184],\n",
              "       [ 0.13566829, -0.04919407]])"
            ]
          },
          "execution_count": 14,
          "metadata": {},
          "output_type": "execute_result"
        }
      ],
      "source": [
        "mean = [0,0]\n",
        "cov = [[1,0.5],[0.5,1]]\n",
        "rng1.multivariate_normal(mean,cov,size=3)"
      ]
    },
    {
      "cell_type": "code",
      "execution_count": null,
      "metadata": {
        "colab": {
          "base_uri": "https://localhost:8080/"
        },
        "id": "H922okBSIOpV",
        "outputId": "7b6de378-cb3b-471b-f43d-2dcbfff9e206"
      },
      "outputs": [
        {
          "data": {
            "text/plain": [
              "array([3, 4, 5, 6, 7])"
            ]
          },
          "execution_count": 15,
          "metadata": {},
          "output_type": "execute_result"
        }
      ],
      "source": [
        "x = np.array([1,2,3,4,5])\n",
        "x+2"
      ]
    },
    {
      "cell_type": "code",
      "execution_count": null,
      "metadata": {
        "colab": {
          "base_uri": "https://localhost:8080/"
        },
        "id": "w1h7w5YyJAR1",
        "outputId": "0ce75772-d4ad-42b4-bc1e-97d437a84f2e"
      },
      "outputs": [
        {
          "data": {
            "text/plain": [
              "array([ True,  True, False, False, False])"
            ]
          },
          "execution_count": 16,
          "metadata": {},
          "output_type": "execute_result"
        }
      ],
      "source": [
        "x < 3"
      ]
    },
    {
      "cell_type": "code",
      "execution_count": null,
      "metadata": {
        "colab": {
          "base_uri": "https://localhost:8080/"
        },
        "id": "ooSItqYIJciS",
        "outputId": "94255826-7bdf-456f-bd36-d3084cc0010c"
      },
      "outputs": [
        {
          "data": {
            "text/plain": [
              "array([False, False, False,  True,  True])"
            ]
          },
          "execution_count": 17,
          "metadata": {},
          "output_type": "execute_result"
        }
      ],
      "source": [
        "x > 3"
      ]
    },
    {
      "cell_type": "code",
      "execution_count": null,
      "metadata": {
        "colab": {
          "base_uri": "https://localhost:8080/"
        },
        "id": "ci84xbxFJk7D",
        "outputId": "4aa3c6c5-177a-4f66-99e9-9a95f6941556"
      },
      "outputs": [
        {
          "data": {
            "text/plain": [
              "array([ True,  True,  True, False, False])"
            ]
          },
          "execution_count": 18,
          "metadata": {},
          "output_type": "execute_result"
        }
      ],
      "source": [
        "x <= 3"
      ]
    },
    {
      "cell_type": "code",
      "execution_count": null,
      "metadata": {
        "colab": {
          "base_uri": "https://localhost:8080/"
        },
        "id": "-LFgQla9JmrN",
        "outputId": "d064d453-62d7-4b94-a177-4196e948843b"
      },
      "outputs": [
        {
          "data": {
            "text/plain": [
              "array([False, False,  True,  True,  True])"
            ]
          },
          "execution_count": 19,
          "metadata": {},
          "output_type": "execute_result"
        }
      ],
      "source": [
        "x>=3"
      ]
    },
    {
      "cell_type": "code",
      "execution_count": null,
      "metadata": {
        "colab": {
          "base_uri": "https://localhost:8080/"
        },
        "id": "AK6D4SHGJoBN",
        "outputId": "8e97dbc1-1bcb-490a-fc8d-fb58e1c112fc"
      },
      "outputs": [
        {
          "data": {
            "text/plain": [
              "array([False, False,  True, False, False])"
            ]
          },
          "execution_count": 20,
          "metadata": {},
          "output_type": "execute_result"
        }
      ],
      "source": [
        "x==3"
      ]
    },
    {
      "cell_type": "code",
      "execution_count": null,
      "metadata": {
        "colab": {
          "base_uri": "https://localhost:8080/"
        },
        "id": "YIyOCmrXJocn",
        "outputId": "72e36533-5556-4b6a-c61b-78e720e2717f"
      },
      "outputs": [
        {
          "data": {
            "text/plain": [
              "array([ True,  True, False,  True,  True])"
            ]
          },
          "execution_count": 21,
          "metadata": {},
          "output_type": "execute_result"
        }
      ],
      "source": [
        "x!=3"
      ]
    },
    {
      "cell_type": "code",
      "execution_count": null,
      "metadata": {
        "colab": {
          "base_uri": "https://localhost:8080/"
        },
        "id": "Pk0_w0VPJpqG",
        "outputId": "0222d750-a656-439f-aec4-5ea4db6f0972"
      },
      "outputs": [
        {
          "data": {
            "text/plain": [
              "array([1, 2, 3, 4, 5])"
            ]
          },
          "execution_count": 22,
          "metadata": {},
          "output_type": "execute_result"
        }
      ],
      "source": [
        "x"
      ]
    },
    {
      "cell_type": "code",
      "execution_count": null,
      "metadata": {
        "colab": {
          "base_uri": "https://localhost:8080/"
        },
        "id": "pobBJfh0Jucx",
        "outputId": "4d5d6993-a209-4f2b-a15d-f2c540981f86"
      },
      "outputs": [
        {
          "data": {
            "text/plain": [
              "array([ True,  True, False, False, False])"
            ]
          },
          "execution_count": 23,
          "metadata": {},
          "output_type": "execute_result"
        }
      ],
      "source": [
        "(2*x) == (2**x)"
      ]
    },
    {
      "cell_type": "code",
      "execution_count": null,
      "metadata": {
        "colab": {
          "base_uri": "https://localhost:8080/"
        },
        "id": "LURboqsCJ6sO",
        "outputId": "ea8cfd82-4418-4e86-bb44-881dbe9e96b5"
      },
      "outputs": [
        {
          "data": {
            "text/plain": [
              "array([ 2,  4,  6,  8, 10])"
            ]
          },
          "execution_count": 24,
          "metadata": {},
          "output_type": "execute_result"
        }
      ],
      "source": [
        "2*x"
      ]
    },
    {
      "cell_type": "code",
      "execution_count": null,
      "metadata": {
        "colab": {
          "base_uri": "https://localhost:8080/"
        },
        "id": "8gbdWXRTJ8a7",
        "outputId": "a15be5f1-aea8-4be5-f3e4-3c14c22504e1"
      },
      "outputs": [
        {
          "data": {
            "text/plain": [
              "array([ 2,  4,  8, 16, 32])"
            ]
          },
          "execution_count": 26,
          "metadata": {},
          "output_type": "execute_result"
        }
      ],
      "source": [
        "(2**x)"
      ]
    },
    {
      "cell_type": "code",
      "execution_count": null,
      "metadata": {
        "colab": {
          "base_uri": "https://localhost:8080/"
        },
        "id": "wyPWgZtfJ9as",
        "outputId": "5da047aa-6c05-4988-839e-d04c1232dd2d"
      },
      "outputs": [
        {
          "data": {
            "text/plain": [
              "array([[9, 4, 0, 3],\n",
              "       [8, 6, 3, 1],\n",
              "       [3, 7, 4, 0]])"
            ]
          },
          "execution_count": 28,
          "metadata": {},
          "output_type": "execute_result"
        }
      ],
      "source": [
        "rng = np.random.default_rng(seed=1701)\n",
        "x = rng.integers(10, size=(3,4))\n",
        "x"
      ]
    },
    {
      "cell_type": "code",
      "execution_count": null,
      "metadata": {
        "colab": {
          "base_uri": "https://localhost:8080/"
        },
        "id": "0ls-cxRWKLYi",
        "outputId": "fe7c2e90-711c-4bc7-840b-a8db798f3e76"
      },
      "outputs": [
        {
          "data": {
            "text/plain": [
              "array([[False,  True,  True,  True],\n",
              "       [False, False,  True,  True],\n",
              "       [ True, False,  True,  True]])"
            ]
          },
          "execution_count": 29,
          "metadata": {},
          "output_type": "execute_result"
        }
      ],
      "source": [
        "x < 6"
      ]
    },
    {
      "cell_type": "code",
      "execution_count": null,
      "metadata": {
        "colab": {
          "base_uri": "https://localhost:8080/"
        },
        "id": "7SadTAEIKPIa",
        "outputId": "97fd5c6b-55b3-44dd-d7ad-89e8b398bc4e"
      },
      "outputs": [
        {
          "data": {
            "text/plain": [
              "8"
            ]
          },
          "execution_count": 30,
          "metadata": {},
          "output_type": "execute_result"
        }
      ],
      "source": [
        "np.count_nonzero(x < 6)"
      ]
    },
    {
      "cell_type": "code",
      "execution_count": null,
      "metadata": {
        "colab": {
          "base_uri": "https://localhost:8080/"
        },
        "id": "xk7tULdRKsB7",
        "outputId": "692ee853-cd5b-4968-cb34-eab18d627eea"
      },
      "outputs": [
        {
          "data": {
            "text/plain": [
              "array([1, 1, 3, 3])"
            ]
          },
          "execution_count": 31,
          "metadata": {},
          "output_type": "execute_result"
        }
      ],
      "source": [
        "np.sum(x<6,axis=0)"
      ]
    },
    {
      "cell_type": "code",
      "execution_count": null,
      "metadata": {
        "colab": {
          "base_uri": "https://localhost:8080/"
        },
        "id": "oO-nlS5TK1fP",
        "outputId": "5974761f-a374-4c79-d278-347a381fa290"
      },
      "outputs": [
        {
          "data": {
            "text/plain": [
              "np.True_"
            ]
          },
          "execution_count": 32,
          "metadata": {},
          "output_type": "execute_result"
        }
      ],
      "source": [
        "np.any(x<6)"
      ]
    },
    {
      "cell_type": "code",
      "execution_count": null,
      "metadata": {
        "colab": {
          "base_uri": "https://localhost:8080/"
        },
        "id": "bkN7KuWUK_LD",
        "outputId": "6fbbf15b-d7a8-4acf-c8c9-95a7b09d38f2"
      },
      "outputs": [
        {
          "data": {
            "text/plain": [
              "np.False_"
            ]
          },
          "execution_count": 33,
          "metadata": {},
          "output_type": "execute_result"
        }
      ],
      "source": [
        "np.all(x<6)"
      ]
    },
    {
      "cell_type": "code",
      "execution_count": null,
      "metadata": {
        "colab": {
          "base_uri": "https://localhost:8080/"
        },
        "id": "HYzrOwheLGAn",
        "outputId": "865de640-76d0-4870-b993-c54c641ba5ec"
      },
      "outputs": [
        {
          "data": {
            "text/plain": [
              "array([False, False,  True,  True])"
            ]
          },
          "execution_count": 34,
          "metadata": {},
          "output_type": "execute_result"
        }
      ],
      "source": [
        "np.all(x<6,axis=0)"
      ]
    },
    {
      "cell_type": "code",
      "execution_count": null,
      "metadata": {
        "colab": {
          "base_uri": "https://localhost:8080/"
        },
        "id": "szMl7p4NLTLK",
        "outputId": "d5cff165-9196-4ee4-b269-c06728c8f60a"
      },
      "outputs": [
        {
          "data": {
            "text/plain": [
              "array([[9, 4, 0, 3],\n",
              "       [8, 6, 3, 1],\n",
              "       [3, 7, 4, 0]])"
            ]
          },
          "execution_count": 35,
          "metadata": {},
          "output_type": "execute_result"
        }
      ],
      "source": [
        "x"
      ]
    },
    {
      "cell_type": "code",
      "execution_count": null,
      "metadata": {
        "colab": {
          "base_uri": "https://localhost:8080/"
        },
        "id": "ZL9sCJ--MIrN",
        "outputId": "b5caaa6c-4906-4750-e913-6c73d46353d3"
      },
      "outputs": [
        {
          "data": {
            "text/plain": [
              "array([4, 0, 3, 3, 1, 3, 4, 0])"
            ]
          },
          "execution_count": 36,
          "metadata": {},
          "output_type": "execute_result"
        }
      ],
      "source": [
        "x[x<6]"
      ]
    },
    {
      "cell_type": "code",
      "execution_count": null,
      "metadata": {
        "colab": {
          "base_uri": "https://localhost:8080/",
          "height": 141
        },
        "id": "tX_7ip-_MW3R",
        "outputId": "99af2eb3-3abc-44eb-e69f-1fee35a851bc"
      },
      "outputs": [
        {
          "ename": "ValueError",
          "evalue": "The truth value of an array with more than one element is ambiguous. Use a.any() or a.all()",
          "output_type": "error",
          "traceback": [
            "\u001b[0;31m---------------------------------------------------------------------------\u001b[0m",
            "\u001b[0;31mValueError\u001b[0m                                Traceback (most recent call last)",
            "\u001b[0;32m<ipython-input-37-f4145bbf2696>\u001b[0m in \u001b[0;36m<cell line: 0>\u001b[0;34m()\u001b[0m\n\u001b[0;32m----> 1\u001b[0;31m \u001b[0mx\u001b[0m\u001b[0;34m[\u001b[0m\u001b[0;34m(\u001b[0m\u001b[0mx\u001b[0m\u001b[0;34m<\u001b[0m\u001b[0;36m6\u001b[0m\u001b[0;34m)\u001b[0m \u001b[0;32mand\u001b[0m \u001b[0;34m(\u001b[0m\u001b[0mx\u001b[0m\u001b[0;34m>\u001b[0m\u001b[0;36m4\u001b[0m\u001b[0;34m)\u001b[0m\u001b[0;34m]\u001b[0m\u001b[0;34m\u001b[0m\u001b[0;34m\u001b[0m\u001b[0m\n\u001b[0m",
            "\u001b[0;31mValueError\u001b[0m: The truth value of an array with more than one element is ambiguous. Use a.any() or a.all()"
          ]
        }
      ],
      "source": [
        "x[(x<6) and (x>4)]#don't use logical operators with boolean mask arrays"
      ]
    },
    {
      "cell_type": "code",
      "execution_count": null,
      "metadata": {
        "colab": {
          "base_uri": "https://localhost:8080/"
        },
        "id": "y32UoIkbNCBt",
        "outputId": "5476056a-e432-48cc-a024-00064494e3a5"
      },
      "outputs": [
        {
          "data": {
            "text/plain": [
              "array([], dtype=int64)"
            ]
          },
          "execution_count": 39,
          "metadata": {},
          "output_type": "execute_result"
        }
      ],
      "source": [
        "x[(x<6) & (x>4)]"
      ]
    },
    {
      "cell_type": "code",
      "execution_count": null,
      "metadata": {
        "colab": {
          "base_uri": "https://localhost:8080/"
        },
        "id": "3T-opYe8N50R",
        "outputId": "c7b92548-51b0-4c4f-b73e-422f2a7db6d9"
      },
      "outputs": [
        {
          "data": {
            "text/plain": [
              "array([[False, False, False, False],\n",
              "       [False, False, False, False],\n",
              "       [False, False, False, False]])"
            ]
          },
          "execution_count": 38,
          "metadata": {},
          "output_type": "execute_result"
        }
      ],
      "source": [
        "(x<6) & (x>4)"
      ]
    },
    {
      "cell_type": "code",
      "execution_count": null,
      "metadata": {
        "id": "zYHC5eWJN6Hd"
      },
      "outputs": [],
      "source": [
        "from vega_datasets import data\n",
        "rainfall = np.array(data.seattle_weather().set_index('date')['precipitation']['2015'])"
      ]
    },
    {
      "cell_type": "code",
      "execution_count": null,
      "metadata": {
        "colab": {
          "base_uri": "https://localhost:8080/"
        },
        "id": "B8u9jbUaSdyo",
        "outputId": "5be09f1b-3544-4003-b3d0-fa106806f367"
      },
      "outputs": [
        {
          "data": {
            "text/plain": [
              "(365,)"
            ]
          },
          "execution_count": 44,
          "metadata": {},
          "output_type": "execute_result"
        }
      ],
      "source": [
        "rainfall.shape"
      ]
    },
    {
      "cell_type": "code",
      "execution_count": null,
      "metadata": {
        "colab": {
          "base_uri": "https://localhost:8080/"
        },
        "id": "lCZ3ShGPSmSA",
        "outputId": "e25ffe3f-d80e-4b47-ce04-48f97f08020d"
      },
      "outputs": [
        {
          "data": {
            "text/plain": [
              "array([ 0. ,  1.5,  0. , 10.2,  8.1,  0. ,  0. ,  0. ,  0.3,  5.8,  1.5,\n",
              "        0. ,  0. ,  0. ,  9.7,  0. , 26.2, 21.3,  0.5,  0. ,  0. ,  0.8,\n",
              "        5.8,  0.5,  0. ,  0. ,  0.8,  0. ,  0. ,  0. ,  0. ,  1.5,  7.4,\n",
              "        1.3,  8.4, 26.2, 17.3, 23.6,  3.6,  6.1,  0.3,  0. ,  1. ,  0. ,\n",
              "        0.3,  0. ,  0. ,  0. ,  0. ,  4.6,  0.8,  0. ,  0. ,  0. ,  0. ,\n",
              "        4.1,  9.4, 18.3,  0. ,  0. ,  0. ,  0. ,  0. ,  0. ,  0. ,  0. ,\n",
              "        0. ,  0. ,  0.8,  2.5,  0. ,  2. , 17. , 55.9,  1. ,  0.8,  0. ,\n",
              "        0. ,  4.1,  3.8,  1. ,  8.1,  7.6,  5.1,  0. ,  1. ,  0. ,  0. ,\n",
              "        1.8,  1. ,  5.1,  0. ,  1.5,  0. ,  0. ,  1. ,  0.5,  0. ,  0. ,\n",
              "       10.9,  0. ,  0. , 14. ,  3.3,  0. ,  0. ,  0. ,  0. ,  0. ,  0. ,\n",
              "        5.6,  0. ,  3. ,  3.3,  1.3,  0. ,  0.3,  1.8,  0. ,  0. ,  0. ,\n",
              "        0. ,  0. ,  0. ,  6.1,  0. ,  0. ,  0. ,  0. ,  0. ,  0. ,  4.3,\n",
              "        4.1,  0.3,  0. ,  0. ,  0. ,  0. ,  0. ,  0. ,  0. ,  0. ,  0. ,\n",
              "        0. ,  0. ,  0. ,  0. ,  0. ,  0. ,  0. ,  0. ,  4.6,  0.5,  0. ,\n",
              "        0. ,  0. ,  0. ,  0. ,  0. ,  0. ,  0. ,  0. ,  0. ,  0. ,  0. ,\n",
              "        0. ,  0. ,  0. ,  0. ,  0.5,  0. ,  0. ,  0. ,  0. ,  0. ,  0. ,\n",
              "        0. ,  0. ,  0.3,  0. ,  0. ,  0. ,  0. ,  0. ,  0. ,  0. ,  0. ,\n",
              "        0. ,  0. ,  0. ,  0. ,  0. ,  0. ,  0. ,  0. ,  0. ,  0. ,  0. ,\n",
              "        0. ,  0. ,  0. ,  0. ,  0. ,  0. ,  0.3,  0. ,  2. ,  0. ,  0. ,\n",
              "        0. ,  0. ,  0. ,  0. ,  0. ,  0. ,  0. ,  0. ,  0. ,  0. ,  0. ,\n",
              "        0. ,  0. ,  0. ,  7.6,  0. , 30.5,  0. ,  0. ,  0. ,  0. ,  0. ,\n",
              "        2. ,  0. ,  0. ,  0. ,  0. ,  0. ,  0. ,  0. ,  0.5, 32.5, 10.2,\n",
              "        0. ,  5.8,  0. ,  0. ,  0. ,  0.3,  5.3,  0.3,  0. ,  0. ,  0. ,\n",
              "        0. ,  0. ,  0.5,  0. ,  0. ,  1. ,  1.8,  0. ,  0. ,  4.1,  0. ,\n",
              "        0. ,  0. ,  0. ,  2. ,  0. ,  0. ,  0. ,  0. ,  0. ,  0. ,  0. ,\n",
              "        0. ,  0. ,  0. ,  0. ,  9.9,  0. ,  0.3, 28.7,  0. ,  4.6,  1.3,\n",
              "        0. ,  0. ,  0. ,  0.3,  3.8,  0.3,  0. ,  0. ,  0. ,  0. ,  0. ,\n",
              "        8.9,  6.9,  0. ,  3.3,  1.8, 19.3, 33. , 26.2,  0.3,  0.8,  0. ,\n",
              "        1.3,  0. , 12.7,  6.6,  3.3,  1.3,  1.5,  9.9, 33.5, 47.2, 22.4,\n",
              "        2. , 29.5,  1.5,  2. ,  0. ,  0. ,  0. ,  3. ,  7.1,  0. ,  0. ,\n",
              "        0. ,  0. ,  0. ,  0.5, 12.2,  2.5, 12.7,  2. , 15.7, 11.2, 27.4,\n",
              "       54.1, 13.5,  9.4,  0.3, 16. ,  1.3,  0. ,  1.5,  3.6, 21.8, 18.5,\n",
              "        0. ,  4.3, 27.4,  4.6,  6.1,  2.5,  5.8,  0. ,  8.6,  1.5,  0. ,\n",
              "        0. ,  0. ])"
            ]
          },
          "execution_count": 45,
          "metadata": {},
          "output_type": "execute_result"
        }
      ],
      "source": [
        "rainfall"
      ]
    },
    {
      "cell_type": "code",
      "execution_count": null,
      "metadata": {
        "colab": {
          "base_uri": "https://localhost:8080/",
          "height": 534
        },
        "id": "tzuit4Y_TGRs",
        "outputId": "a7e374dc-4b4f-46ca-8a91-74de1a907845"
      },
      "outputs": [
        {
          "data": {
            "text/plain": [
              "(array([284.,  23.,  16.,  11.,   5.,   3.,   5.,   2.,   2.,   5.,   3.,\n",
              "          3.,   0.,   0.,   0.,   0.,   1.,   0.,   0.,   2.]),\n",
              " array([ 0.   ,  2.795,  5.59 ,  8.385, 11.18 , 13.975, 16.77 , 19.565,\n",
              "        22.36 , 25.155, 27.95 , 30.745, 33.54 , 36.335, 39.13 , 41.925,\n",
              "        44.72 , 47.515, 50.31 , 53.105, 55.9  ]),\n",
              " <BarContainer object of 20 artists>)"
            ]
          },
          "execution_count": 46,
          "metadata": {},
          "output_type": "execute_result"
        },
        {
          "data": {
            "image/png": "[encoded data removed]",
            "text/plain": [
              "<Figure size 640x480 with 1 Axes>"
            ]
          },
          "metadata": {},
          "output_type": "display_data"
        }
      ],
      "source": [
        "import matplotlib.pyplot as plt\n",
        "plt.hist(rainfall,20)"
      ]
    },
    {
      "cell_type": "code",
      "execution_count": null,
      "metadata": {
        "id": "PV85w2iqTdxO"
      },
      "outputs": [],
      "source": [
        "#number of days with rain preci between 10 and 20\n",
        "#number of days without rain\n",
        "#number of days with rain\n",
        "#number of days with more than 10 mm\n",
        "#number of rainy days with rain < 5 mm"
      ]
    },
    {
      "cell_type": "code",
      "execution_count": null,
      "metadata": {
        "colab": {
          "base_uri": "https://localhost:8080/"
        },
        "id": "i0rvQ52VUGGA",
        "outputId": "f509eda8-fdf8-4415-99d6-b242fead775c"
      },
      "outputs": [
        {
          "data": {
            "text/plain": [
              "365"
            ]
          },
          "execution_count": 54,
          "metadata": {},
          "output_type": "execute_result"
        }
      ],
      "source": [
        "len(rainfall)"
      ]
    },
    {
      "cell_type": "code",
      "execution_count": null,
      "metadata": {
        "colab": {
          "base_uri": "https://localhost:8080/"
        },
        "id": "-uPZZjVuUJeF",
        "outputId": "4379d058-c90e-4668-dcba-6ebd483a80f4"
      },
      "outputs": [
        {
          "data": {
            "text/plain": [
              "array([], dtype=float64)"
            ]
          },
          "execution_count": 47,
          "metadata": {},
          "output_type": "execute_result"
        }
      ],
      "source": [
        "rainfall[(rainfall <10) & (rainfall > 20)]"
      ]
    },
    {
      "cell_type": "code",
      "execution_count": null,
      "metadata": {
        "colab": {
          "base_uri": "https://localhost:8080/"
        },
        "id": "Ue77UAoqUVfL",
        "outputId": "33eabb38-e069-4dae-b501-261882ebca4e"
      },
      "outputs": [
        {
          "data": {
            "text/plain": [
              "0"
            ]
          },
          "execution_count": 48,
          "metadata": {},
          "output_type": "execute_result"
        }
      ],
      "source": [
        "np.count_nonzero((rainfall <10) & (rainfall > 20))"
      ]
    },
    {
      "cell_type": "code",
      "execution_count": null,
      "metadata": {
        "colab": {
          "base_uri": "https://localhost:8080/"
        },
        "id": "8tpiB0roUfwU",
        "outputId": "ac489ff2-cbdd-49d1-d595-24afa9ebbe76"
      },
      "outputs": [
        {
          "data": {
            "text/plain": [
              "221"
            ]
          },
          "execution_count": 49,
          "metadata": {},
          "output_type": "execute_result"
        }
      ],
      "source": [
        "np.count_nonzero(rainfall==0)"
      ]
    },
    {
      "cell_type": "code",
      "execution_count": null,
      "metadata": {
        "colab": {
          "base_uri": "https://localhost:8080/"
        },
        "id": "jcEwu0BAU5lf",
        "outputId": "fcf01520-7ee2-46f0-80c6-47c952942de2"
      },
      "outputs": [
        {
          "data": {
            "text/plain": [
              "144"
            ]
          },
          "execution_count": 50,
          "metadata": {},
          "output_type": "execute_result"
        }
      ],
      "source": [
        "np.count_nonzero(rainfall!=0)"
      ]
    },
    {
      "cell_type": "code",
      "execution_count": null,
      "metadata": {
        "colab": {
          "base_uri": "https://localhost:8080/"
        },
        "id": "MXfUCxTFVAhI",
        "outputId": "fcfbfe01-013d-4341-9b50-f98ffbbea1d6"
      },
      "outputs": [
        {
          "data": {
            "text/plain": [
              "34"
            ]
          },
          "execution_count": 51,
          "metadata": {},
          "output_type": "execute_result"
        }
      ],
      "source": [
        "np.count_nonzero(rainfall>10)"
      ]
    },
    {
      "cell_type": "code",
      "execution_count": null,
      "metadata": {
        "colab": {
          "base_uri": "https://localhost:8080/"
        },
        "id": "ck_yfyKNVFtD",
        "outputId": "8d0e7eb0-e86f-4148-817e-d5bc674aac9b"
      },
      "outputs": [
        {
          "data": {
            "text/plain": [
              "83"
            ]
          },
          "execution_count": 52,
          "metadata": {},
          "output_type": "execute_result"
        }
      ],
      "source": [
        "np.count_nonzero((rainfall>0) & (rainfall <5))"
      ]
    },
    {
      "cell_type": "code",
      "execution_count": null,
      "metadata": {
        "id": "CPSp45hLVuto"
      },
      "outputs": [],
      "source": [
        "#median precip on rainy days\n",
        "#median precip on summer days 173->261\n",
        "#maximum precip on summer days\n",
        "#median precip on non-summer rainy days"
      ]
    },
    {
      "cell_type": "code",
      "execution_count": null,
      "metadata": {
        "colab": {
          "base_uri": "https://localhost:8080/"
        },
        "id": "_EwLbGuVZ1EV",
        "outputId": "c6d32c26-8bfd-440a-f876-c3e515a5b359"
      },
      "outputs": [
        {
          "data": {
            "text/plain": [
              "np.float64(3.8)"
            ]
          },
          "execution_count": 56,
          "metadata": {},
          "output_type": "execute_result"
        }
      ],
      "source": [
        "x = rainfall > 0 #rainyMask\n",
        "rainyDays = rainfall[x]\n",
        "np.median(rainyDays)"
      ]
    },
    {
      "cell_type": "code",
      "execution_count": null,
      "metadata": {
        "colab": {
          "base_uri": "https://localhost:8080/"
        },
        "id": "BY48VzmOaDnt",
        "outputId": "12a54b64-1951-4825-de75-20ebfc593e45"
      },
      "outputs": [
        {
          "data": {
            "text/plain": [
              "np.float64(0.0)"
            ]
          },
          "execution_count": 59,
          "metadata": {},
          "output_type": "execute_result"
        }
      ],
      "source": [
        "y = rainfall[173:262]\n",
        "np.median(y)"
      ]
    },
    {
      "cell_type": "code",
      "execution_count": null,
      "metadata": {
        "colab": {
          "base_uri": "https://localhost:8080/"
        },
        "id": "xYVN4uXbahPd",
        "outputId": "43e3004e-3112-4134-8cb3-8eba06a9fbfb"
      },
      "outputs": [
        {
          "data": {
            "text/plain": [
              "np.float64(32.5)"
            ]
          },
          "execution_count": 60,
          "metadata": {},
          "output_type": "execute_result"
        }
      ],
      "source": [
        "np.max(y)"
      ]
    },
    {
      "cell_type": "code",
      "execution_count": null,
      "metadata": {
        "colab": {
          "base_uri": "https://localhost:8080/"
        },
        "id": "Swt5PTMkaoZf",
        "outputId": "cc68bd6c-077a-430b-ddbb-d7c2986ef5ae"
      },
      "outputs": [
        {
          "data": {
            "text/plain": [
              "np.float64(4.1)"
            ]
          },
          "execution_count": 62,
          "metadata": {},
          "output_type": "execute_result"
        }
      ],
      "source": [
        "z = rainfall[:173]\n",
        "np.median(np.concatenate([rainfall[:173],rainfall[262:]])[(np.concatenate([rainfall[:173],rainfall[262:]])) > 0])"
      ]
    },
    {
      "cell_type": "code",
      "execution_count": null,
      "metadata": {
        "colab": {
          "base_uri": "https://localhost:8080/"
        },
        "id": "X_H8GPb4bEjY",
        "outputId": "40b551af-a784-4b69-b7f1-516d8f3d5577"
      },
      "outputs": [
        {
          "data": {
            "text/plain": [
              "array([  0,   1,   2,   3,   4,   5,   6,   7,   8,   9,  10,  11,  12,\n",
              "        13,  14,  15,  16,  17,  18,  19,  20,  21,  22,  23,  24,  25,\n",
              "        26,  27,  28,  29,  30,  31,  32,  33,  34,  35,  36,  37,  38,\n",
              "        39,  40,  41,  42,  43,  44,  45,  46,  47,  48,  49,  50,  51,\n",
              "        52,  53,  54,  55,  56,  57,  58,  59,  60,  61,  62,  63,  64,\n",
              "        65,  66,  67,  68,  69,  70,  71,  72,  73,  74,  75,  76,  77,\n",
              "        78,  79,  80,  81,  82,  83,  84,  85,  86,  87,  88,  89,  90,\n",
              "        91,  92,  93,  94,  95,  96,  97,  98,  99, 100, 101, 102, 103,\n",
              "       104, 105, 106, 107, 108, 109, 110, 111, 112, 113, 114, 115, 116,\n",
              "       117, 118, 119, 120, 121, 122, 123, 124, 125, 126, 127, 128, 129,\n",
              "       130, 131, 132, 133, 134, 135, 136, 137, 138, 139, 140, 141, 142,\n",
              "       143, 144, 145, 146, 147, 148, 149, 150, 151, 152, 153, 154, 155,\n",
              "       156, 157, 158, 159, 160, 161, 162, 163, 164, 165, 166, 167, 168,\n",
              "       169, 170, 171, 172, 173, 174, 175, 176, 177, 178, 179, 180, 181,\n",
              "       182, 183, 184, 185, 186, 187, 188, 189, 190, 191, 192, 193, 194,\n",
              "       195, 196, 197, 198, 199, 200, 201, 202, 203, 204, 205, 206, 207,\n",
              "       208, 209, 210, 211, 212, 213, 214, 215, 216, 217, 218, 219, 220,\n",
              "       221, 222, 223, 224, 225, 226, 227, 228, 229, 230, 231, 232, 233,\n",
              "       234, 235, 236, 237, 238, 239, 240, 241, 242, 243, 244, 245, 246,\n",
              "       247, 248, 249, 250, 251, 252, 253, 254, 255, 256, 257, 258, 259,\n",
              "       260, 261, 262, 263, 264, 265, 266, 267, 268, 269, 270, 271, 272,\n",
              "       273, 274, 275, 276, 277, 278, 279, 280, 281, 282, 283, 284, 285,\n",
              "       286, 287, 288, 289, 290, 291, 292, 293, 294, 295, 296, 297, 298,\n",
              "       299, 300, 301, 302, 303, 304, 305, 306, 307, 308, 309, 310, 311,\n",
              "       312, 313, 314, 315, 316, 317, 318, 319, 320, 321, 322, 323, 324,\n",
              "       325, 326, 327, 328, 329, 330, 331, 332, 333, 334, 335, 336, 337,\n",
              "       338, 339, 340, 341, 342, 343, 344, 345, 346, 347, 348, 349, 350,\n",
              "       351, 352, 353, 354, 355, 356, 357, 358, 359, 360, 361, 362, 363,\n",
              "       364])"
            ]
          },
          "execution_count": 63,
          "metadata": {},
          "output_type": "execute_result"
        }
      ],
      "source": [
        "days = np.arange(365)\n",
        "days"
      ]
    },
    {
      "cell_type": "code",
      "execution_count": null,
      "metadata": {
        "colab": {
          "base_uri": "https://localhost:8080/"
        },
        "id": "hTxnrL9sbcfS",
        "outputId": "363f5163-2738-4907-e090-1cddae258f50"
      },
      "outputs": [
        {
          "data": {
            "text/plain": [
              "array([False, False, False, False, False, False, False, False, False,\n",
              "       False, False, False, False, False, False, False, False, False,\n",
              "       False, False, False, False, False, False, False, False, False,\n",
              "       False, False, False, False, False, False, False, False, False,\n",
              "       False, False, False, False, False, False, False, False, False,\n",
              "       False, False, False, False, False, False, False, False, False,\n",
              "       False, False, False, False, False, False, False, False, False,\n",
              "       False, False, False, False, False, False, False, False, False,\n",
              "       False, False, False, False, False, False, False, False, False,\n",
              "       False, False, False, False, False, False, False, False, False,\n",
              "       False, False, False, False, False, False, False, False, False,\n",
              "       False, False, False, False, False, False, False, False, False,\n",
              "       False, False, False, False, False, False, False, False, False,\n",
              "       False, False, False, False, False, False, False, False, False,\n",
              "       False, False, False, False, False, False, False, False, False,\n",
              "       False, False, False, False, False, False, False, False, False,\n",
              "       False, False, False, False, False, False, False, False, False,\n",
              "       False, False, False, False, False, False, False, False, False,\n",
              "       False, False, False, False, False, False, False, False, False,\n",
              "       False, False,  True,  True,  True,  True,  True,  True,  True,\n",
              "        True,  True,  True,  True,  True,  True,  True,  True,  True,\n",
              "        True,  True,  True,  True,  True,  True,  True,  True,  True,\n",
              "        True,  True,  True,  True,  True,  True,  True,  True,  True,\n",
              "        True,  True,  True,  True,  True,  True,  True,  True,  True,\n",
              "        True,  True,  True,  True,  True,  True,  True,  True,  True,\n",
              "        True,  True,  True,  True,  True,  True,  True,  True,  True,\n",
              "        True,  True,  True,  True,  True,  True,  True,  True,  True,\n",
              "        True,  True,  True,  True,  True,  True,  True,  True,  True,\n",
              "        True,  True,  True,  True,  True,  True,  True,  True,  True,\n",
              "        True, False, False, False, False, False, False, False, False,\n",
              "       False, False, False, False, False, False, False, False, False,\n",
              "       False, False, False, False, False, False, False, False, False,\n",
              "       False, False, False, False, False, False, False, False, False,\n",
              "       False, False, False, False, False, False, False, False, False,\n",
              "       False, False, False, False, False, False, False, False, False,\n",
              "       False, False, False, False, False, False, False, False, False,\n",
              "       False, False, False, False, False, False, False, False, False,\n",
              "       False, False, False, False, False, False, False, False, False,\n",
              "       False, False, False, False, False, False, False, False, False,\n",
              "       False, False, False, False, False, False, False, False, False,\n",
              "       False, False, False, False, False])"
            ]
          },
          "execution_count": 64,
          "metadata": {},
          "output_type": "execute_result"
        }
      ],
      "source": [
        "summer = (days>172)&(days<262)\n",
        "summer"
      ]
    },
    {
      "cell_type": "code",
      "execution_count": null,
      "metadata": {
        "id": "fz6SnA3ebi9Z"
      },
      "outputs": [],
      "source": [
        "rainy = rainfall>0"
      ]
    },
    {
      "cell_type": "code",
      "execution_count": null,
      "metadata": {
        "colab": {
          "base_uri": "https://localhost:8080/"
        },
        "id": "RBBRs0DfbscL",
        "outputId": "389de6ff-770f-4cb4-a2ea-303c167b36c8"
      },
      "outputs": [
        {
          "data": {
            "text/plain": [
              "np.float64(4.1)"
            ]
          },
          "execution_count": 66,
          "metadata": {},
          "output_type": "execute_result"
        }
      ],
      "source": [
        "np.median(rainfall[rainy & ~summer])"
      ]
    },
    {
      "cell_type": "code",
      "execution_count": null,
      "metadata": {
        "colab": {
          "base_uri": "https://localhost:8080/"
        },
        "id": "lBX1mOi0b7jy",
        "outputId": "56870059-308d-4648-d8bb-e300653da844"
      },
      "outputs": [
        {
          "data": {
            "text/plain": [
              "array([90, 40,  9, 30, 80, 67, 39, 15, 33, 79])"
            ]
          },
          "execution_count": 69,
          "metadata": {},
          "output_type": "execute_result"
        }
      ],
      "source": [
        "rng = np.random.default_rng(seed=1701)\n",
        "x = rng.integers(100, size=10)\n",
        "x"
      ]
    },
    {
      "cell_type": "code",
      "execution_count": null,
      "metadata": {
        "colab": {
          "base_uri": "https://localhost:8080/"
        },
        "id": "8EYMqnYgc6n7",
        "outputId": "8d4e09a4-89b4-4ad4-8831-ec1386fd36d8"
      },
      "outputs": [
        {
          "data": {
            "text/plain": [
              "[np.int64(30), np.int64(15), np.int64(9)]"
            ]
          },
          "execution_count": 70,
          "metadata": {},
          "output_type": "execute_result"
        }
      ],
      "source": [
        "[x[3],x[7],x[2]]"
      ]
    },
    {
      "cell_type": "code",
      "execution_count": null,
      "metadata": {
        "colab": {
          "base_uri": "https://localhost:8080/"
        },
        "id": "sK4qp3vldIex",
        "outputId": "9363650d-998c-49ca-cfbe-48aa3b0392a6"
      },
      "outputs": [
        {
          "data": {
            "text/plain": [
              "array([30, 15,  9])"
            ]
          },
          "execution_count": 71,
          "metadata": {},
          "output_type": "execute_result"
        }
      ],
      "source": [
        "ind = [3,7,2]\n",
        "x[ind]"
      ]
    },
    {
      "cell_type": "code",
      "execution_count": null,
      "metadata": {
        "colab": {
          "base_uri": "https://localhost:8080/"
        },
        "id": "txpugygTdlhI",
        "outputId": "a1c55448-7fd4-4b44-cb46-42410e9c54ce"
      },
      "outputs": [
        {
          "data": {
            "text/plain": [
              "array([[30, 15],\n",
              "       [80, 67]])"
            ]
          },
          "execution_count": 72,
          "metadata": {},
          "output_type": "execute_result"
        }
      ],
      "source": [
        "ind = np.array([[3,7],\n",
        "                [4,5]])\n",
        "\n",
        "x[ind]"
      ]
    },
    {
      "cell_type": "code",
      "execution_count": null,
      "metadata": {
        "colab": {
          "base_uri": "https://localhost:8080/"
        },
        "id": "FVHZVNcMeDv9",
        "outputId": "a68b31ad-beff-42a3-ab8e-ffc78e91bc7b"
      },
      "outputs": [
        {
          "data": {
            "text/plain": [
              "array([[ 0,  1,  2,  3],\n",
              "       [ 4,  5,  6,  7],\n",
              "       [ 8,  9, 10, 11]])"
            ]
          },
          "execution_count": 73,
          "metadata": {},
          "output_type": "execute_result"
        }
      ],
      "source": [
        "X = np.arange(12).reshape((3,4))\n",
        "X"
      ]
    },
    {
      "cell_type": "code",
      "execution_count": null,
      "metadata": {
        "id": "K5BOloR0eSj9"
      },
      "outputs": [],
      "source": [
        "0,2\n",
        "1,1\n",
        "2,3"
      ]
    },
    {
      "cell_type": "code",
      "execution_count": null,
      "metadata": {
        "colab": {
          "base_uri": "https://localhost:8080/"
        },
        "id": "rTNRQApoeiMH",
        "outputId": "6a983d6f-fa1a-4410-d09c-e366974d7e62"
      },
      "outputs": [
        {
          "data": {
            "text/plain": [
              "array([ 0,  5, 11])"
            ]
          },
          "execution_count": 76,
          "metadata": {},
          "output_type": "execute_result"
        }
      ],
      "source": [
        "row = [0,1,2]\n",
        "col = [0,1,3]\n",
        "X[row,col]#X[[0,1,2],[2,1,3]]\n"
      ]
    },
    {
      "cell_type": "code",
      "execution_count": null,
      "metadata": {
        "colab": {
          "base_uri": "https://localhost:8080/"
        },
        "id": "46cUkxhkfBWJ",
        "outputId": "47a7fcbe-8498-45a8-90a6-c34362839a66"
      },
      "outputs": [
        {
          "data": {
            "text/plain": [
              "array([[0, 1, 2, 3],\n",
              "       [4, 5, 6, 7]])"
            ]
          },
          "execution_count": 75,
          "metadata": {},
          "output_type": "execute_result"
        }
      ],
      "source": [
        "ind = np.array([2,3])\n",
        "X[ind]"
      ]
    },
    {
      "cell_type": "code",
      "execution_count": null,
      "metadata": {
        "colab": {
          "base_uri": "https://localhost:8080/"
        },
        "id": "ewUUDYcpgmg9",
        "outputId": "04cc63b1-97fa-4bdc-912d-a51d9285c15b"
      },
      "outputs": [
        {
          "data": {
            "text/plain": [
              "array([[ 0,  1,  2,  3],\n",
              "       [ 4,  5,  6,  7],\n",
              "       [ 8,  9, 10, 11]])"
            ]
          },
          "execution_count": 79,
          "metadata": {},
          "output_type": "execute_result"
        }
      ],
      "source": [
        "row = np.array([0,1,2])\n",
        "col = [2,1,3]\n",
        "X"
      ]
    },
    {
      "cell_type": "code",
      "execution_count": null,
      "metadata": {
        "colab": {
          "base_uri": "https://localhost:8080/"
        },
        "id": "JStLhKrOhNV8",
        "outputId": "9ee628a6-6594-4f87-fdfb-6864211ad0aa"
      },
      "outputs": [
        {
          "data": {
            "text/plain": [
              "array([[0],\n",
              "       [1],\n",
              "       [2]])"
            ]
          },
          "execution_count": 80,
          "metadata": {},
          "output_type": "execute_result"
        }
      ],
      "source": [
        "row[:,np.newaxis]"
      ]
    },
    {
      "cell_type": "code",
      "execution_count": null,
      "metadata": {
        "colab": {
          "base_uri": "https://localhost:8080/"
        },
        "id": "e6MDwwY0hbl5",
        "outputId": "b05dcd3f-e01c-4119-cf78-7d909541de1c"
      },
      "outputs": [
        {
          "data": {
            "text/plain": [
              "array([[ 2,  1,  3],\n",
              "       [ 6,  5,  7],\n",
              "       [10,  9, 11]])"
            ]
          },
          "execution_count": 84,
          "metadata": {},
          "output_type": "execute_result"
        }
      ],
      "source": [
        "rowB = np.array([[0,0,0],\n",
        "                 [1,1,1],\n",
        "                 [2,2,2]])\n",
        "\n",
        "colB = np.array([[2,1,3],\n",
        "                 [2,1,3],\n",
        "                 [2,1,3]])\n",
        "X[rowB,colB]"
      ]
    },
    {
      "cell_type": "code",
      "execution_count": null,
      "metadata": {
        "colab": {
          "base_uri": "https://localhost:8080/"
        },
        "id": "wMzKspPcfhhA",
        "outputId": "3279947b-9f37-40c2-f5e5-9a14a33d0781"
      },
      "outputs": [
        {
          "data": {
            "text/plain": [
              "array([[ 2,  1,  3],\n",
              "       [ 6,  5,  7],\n",
              "       [10,  9, 11]])"
            ]
          },
          "execution_count": 83,
          "metadata": {},
          "output_type": "execute_result"
        }
      ],
      "source": [
        "X[row[:,np.newaxis],col]#(3,1),(3,)->(3,1)(1,3)->(3,3)(3,3)"
      ]
    },
    {
      "cell_type": "code",
      "execution_count": null,
      "metadata": {
        "colab": {
          "base_uri": "https://localhost:8080/"
        },
        "id": "-CVYV2nOh0Fb",
        "outputId": "1cfb7339-f272-44eb-a304-b3445dc2cd00"
      },
      "outputs": [
        {
          "data": {
            "text/plain": [
              "array([[0, 0, 0],\n",
              "       [2, 1, 3],\n",
              "       [4, 2, 6]])"
            ]
          },
          "execution_count": 85,
          "metadata": {},
          "output_type": "execute_result"
        }
      ],
      "source": [
        "row[:,np.newaxis]*col"
      ]
    },
    {
      "cell_type": "code",
      "execution_count": null,
      "metadata": {
        "colab": {
          "base_uri": "https://localhost:8080/"
        },
        "id": "RbFKlHKhiZwk",
        "outputId": "51dc004b-2930-4a6b-e396-44cea8fb017e"
      },
      "outputs": [
        {
          "data": {
            "text/plain": [
              "array([[ 0,  1,  2,  3],\n",
              "       [ 4,  5,  6,  7],\n",
              "       [ 8,  9, 10, 11]])"
            ]
          },
          "execution_count": 86,
          "metadata": {},
          "output_type": "execute_result"
        }
      ],
      "source": [
        "X"
      ]
    },
    {
      "cell_type": "code",
      "execution_count": null,
      "metadata": {
        "colab": {
          "background_save": true,
          "base_uri": "https://localhost:8080/"
        },
        "id": "Xj1fiU0GkE_P",
        "outputId": "5faeb64d-e242-40ad-bff5-4e1102de09bd"
      },
      "outputs": [
        {
          "data": {
            "text/plain": [
              "array([10,  8,  9])"
            ]
          },
          "execution_count": 87,
          "metadata": {},
          "output_type": "execute_result"
        }
      ],
      "source": [
        "X[2,[2,0,1]]#0-dim, (3,)->(1,),(3,)->(3,)(3,)"
      ]
    },
    {
      "cell_type": "code",
      "execution_count": 89,
      "metadata": {
        "id": "YlcKS-DtksqD",
        "colab": {
          "base_uri": "https://localhost:8080/"
        },
        "outputId": "743703e2-d4e9-4ca1-d949-a4390f0c2a6c"
      },
      "outputs": [
        {
          "output_type": "execute_result",
          "data": {
            "text/plain": [
              "array([10,  8,  9])"
            ]
          },
          "metadata": {},
          "execution_count": 89
        }
      ],
      "source": [
        "X[[2,2,2],[2,0,1]]"
      ]
    },
    {
      "cell_type": "code",
      "source": [
        "X[1:, [2,0,1]]"
      ],
      "metadata": {
        "colab": {
          "base_uri": "https://localhost:8080/"
        },
        "id": "50KVyxeSk3QP",
        "outputId": "15156c8d-7988-4436-a0c2-b38b9d1000fd"
      },
      "execution_count": 90,
      "outputs": [
        {
          "output_type": "execute_result",
          "data": {
            "text/plain": [
              "array([[ 6,  4,  5],\n",
              "       [10,  8,  9]])"
            ]
          },
          "metadata": {},
          "execution_count": 90
        }
      ]
    },
    {
      "cell_type": "code",
      "source": [
        "X[2:]"
      ],
      "metadata": {
        "colab": {
          "base_uri": "https://localhost:8080/"
        },
        "id": "IyKqRJT1l8sb",
        "outputId": "e80090ac-7895-4685-b385-7f058816de7d"
      },
      "execution_count": 94,
      "outputs": [
        {
          "output_type": "execute_result",
          "data": {
            "text/plain": [
              "array([[ 8,  9, 10, 11]])"
            ]
          },
          "metadata": {},
          "execution_count": 94
        }
      ]
    },
    {
      "cell_type": "code",
      "source": [
        "X[2]"
      ],
      "metadata": {
        "colab": {
          "base_uri": "https://localhost:8080/"
        },
        "id": "oIuWLqUBmAHK",
        "outputId": "ec00e92e-d125-421a-c158-c0664a762bb8"
      },
      "execution_count": 92,
      "outputs": [
        {
          "output_type": "execute_result",
          "data": {
            "text/plain": [
              "array([ 8,  9, 10, 11])"
            ]
          },
          "metadata": {},
          "execution_count": 92
        }
      ]
    },
    {
      "cell_type": "code",
      "source": [
        "X[2:,1]"
      ],
      "metadata": {
        "colab": {
          "base_uri": "https://localhost:8080/"
        },
        "id": "b-hzHdpImHjz",
        "outputId": "418c8342-5746-452a-87eb-a696db6f68b0"
      },
      "execution_count": 95,
      "outputs": [
        {
          "output_type": "execute_result",
          "data": {
            "text/plain": [
              "array([9])"
            ]
          },
          "metadata": {},
          "execution_count": 95
        }
      ]
    },
    {
      "cell_type": "code",
      "source": [
        "X[2,1]"
      ],
      "metadata": {
        "colab": {
          "base_uri": "https://localhost:8080/"
        },
        "id": "h32SrH4SmwJB",
        "outputId": "35da3b95-e140-474e-8cfa-0d4a47056b0f"
      },
      "execution_count": 96,
      "outputs": [
        {
          "output_type": "execute_result",
          "data": {
            "text/plain": [
              "np.int64(9)"
            ]
          },
          "metadata": {},
          "execution_count": 96
        }
      ]
    },
    {
      "cell_type": "code",
      "source": [
        "X"
      ],
      "metadata": {
        "colab": {
          "base_uri": "https://localhost:8080/"
        },
        "id": "KEGSeK0mnbHn",
        "outputId": "b774c4e3-b8b8-4c0c-fb28-ee57683d7177"
      },
      "execution_count": 97,
      "outputs": [
        {
          "output_type": "execute_result",
          "data": {
            "text/plain": [
              "array([[ 0,  1,  2,  3],\n",
              "       [ 4,  5,  6,  7],\n",
              "       [ 8,  9, 10, 11]])"
            ]
          },
          "metadata": {},
          "execution_count": 97
        }
      ]
    },
    {
      "cell_type": "code",
      "source": [
        "mask = np.array([True, False, True])\n",
        "X[row[:,np.newaxis], mask]"
      ],
      "metadata": {
        "colab": {
          "base_uri": "https://localhost:8080/",
          "height": 159
        },
        "id": "PuVG0pZjmxCa",
        "outputId": "1d3fae52-71f0-4713-88b1-3568bff9a9a4"
      },
      "execution_count": 99,
      "outputs": [
        {
          "output_type": "error",
          "ename": "IndexError",
          "evalue": "boolean index did not match indexed array along axis 1; size of axis is 4 but size of corresponding boolean axis is 3",
          "traceback": [
            "\u001b[0;31m---------------------------------------------------------------------------\u001b[0m",
            "\u001b[0;31mIndexError\u001b[0m                                Traceback (most recent call last)",
            "\u001b[0;32m<ipython-input-99-0f9adcfda2bf>\u001b[0m in \u001b[0;36m<cell line: 0>\u001b[0;34m()\u001b[0m\n\u001b[1;32m      1\u001b[0m \u001b[0mmask\u001b[0m \u001b[0;34m=\u001b[0m \u001b[0mnp\u001b[0m\u001b[0;34m.\u001b[0m\u001b[0marray\u001b[0m\u001b[0;34m(\u001b[0m\u001b[0;34m[\u001b[0m\u001b[0;32mTrue\u001b[0m\u001b[0;34m,\u001b[0m \u001b[0;32mFalse\u001b[0m\u001b[0;34m,\u001b[0m \u001b[0;32mTrue\u001b[0m\u001b[0;34m]\u001b[0m\u001b[0;34m)\u001b[0m\u001b[0;34m\u001b[0m\u001b[0;34m\u001b[0m\u001b[0m\n\u001b[0;32m----> 2\u001b[0;31m \u001b[0mX\u001b[0m\u001b[0;34m[\u001b[0m\u001b[0mrow\u001b[0m\u001b[0;34m[\u001b[0m\u001b[0;34m:\u001b[0m\u001b[0;34m,\u001b[0m\u001b[0mnp\u001b[0m\u001b[0;34m.\u001b[0m\u001b[0mnewaxis\u001b[0m\u001b[0;34m]\u001b[0m\u001b[0;34m,\u001b[0m \u001b[0mmask\u001b[0m\u001b[0;34m]\u001b[0m\u001b[0;34m\u001b[0m\u001b[0;34m\u001b[0m\u001b[0m\n\u001b[0m",
            "\u001b[0;31mIndexError\u001b[0m: boolean index did not match indexed array along axis 1; size of axis is 4 but size of corresponding boolean axis is 3"
          ]
        }
      ]
    },
    {
      "cell_type": "code",
      "source": [
        "mask = np.array([True, False, True, False])\n",
        "X[row[:,np.newaxis], mask]"
      ],
      "metadata": {
        "colab": {
          "base_uri": "https://localhost:8080/"
        },
        "id": "vNHMRx9loi-e",
        "outputId": "a927c4e9-77ac-43ff-90e1-dd5e7ef50313"
      },
      "execution_count": 110,
      "outputs": [
        {
          "output_type": "execute_result",
          "data": {
            "text/plain": [
              "array([[ 0,  2],\n",
              "       [ 4,  6],\n",
              "       [ 8, 10]])"
            ]
          },
          "metadata": {},
          "execution_count": 110
        }
      ]
    },
    {
      "cell_type": "code",
      "source": [
        "mean = [0,0]\n",
        "cov = [[1,2],\n",
        "       [2,5]]\n",
        "\n",
        "rng = np.random.default_rng(seed=42)\n",
        "X = rng.multivariate_normal(mean,cov,100)\n",
        "X.shape"
      ],
      "metadata": {
        "colab": {
          "base_uri": "https://localhost:8080/"
        },
        "id": "XDQ7grsetTnn",
        "outputId": "97e16377-e701-4842-a412-8eec7110fb61"
      },
      "execution_count": 111,
      "outputs": [
        {
          "output_type": "execute_result",
          "data": {
            "text/plain": [
              "(100, 2)"
            ]
          },
          "metadata": {},
          "execution_count": 111
        }
      ]
    },
    {
      "cell_type": "code",
      "source": [
        "plt.scatter(X[:,0],X[:,1])"
      ],
      "metadata": {
        "colab": {
          "base_uri": "https://localhost:8080/",
          "height": 447
        },
        "id": "KuqSrb8BuJ_f",
        "outputId": "8b93eaa9-e43f-4f0f-ac3d-8b9cc93732b6"
      },
      "execution_count": 112,
      "outputs": [
        {
          "output_type": "execute_result",
          "data": {
            "text/plain": [
              "<matplotlib.collections.PathCollection at 0x796ab5704950>"
            ]
          },
          "metadata": {},
          "execution_count": 112
        },
        {
          "output_type": "display_data",
          "data": {
            "text/plain": [
              "<Figure size 640x480 with 1 Axes>"
            ],
            "image/png": "[encoded data removed]"
          },
          "metadata": {}
        }
      ]
    },
    {
      "cell_type": "code",
      "source": [
        "indices = np.random.choice(np.arange(100), 20, replace=False)\n",
        "indices.shape"
      ],
      "metadata": {
        "colab": {
          "base_uri": "https://localhost:8080/"
        },
        "id": "yz9Xja3UuZ3H",
        "outputId": "a0477e27-3993-47de-dd99-51c8a1f2df2e"
      },
      "execution_count": 115,
      "outputs": [
        {
          "output_type": "execute_result",
          "data": {
            "text/plain": [
              "(20,)"
            ]
          },
          "metadata": {},
          "execution_count": 115
        }
      ]
    },
    {
      "cell_type": "code",
      "source": [
        "selection = X[indices]"
      ],
      "metadata": {
        "id": "BHMPQvUDvJLM"
      },
      "execution_count": 116,
      "outputs": []
    },
    {
      "cell_type": "code",
      "source": [
        "selection"
      ],
      "metadata": {
        "colab": {
          "base_uri": "https://localhost:8080/"
        },
        "id": "Mc0D4naPwoEB",
        "outputId": "1943d4c9-cbbe-41c2-c47c-ff50d604dccb"
      },
      "execution_count": 119,
      "outputs": [
        {
          "output_type": "execute_result",
          "data": {
            "text/plain": [
              "array([[-1.63955400e+00, -4.54577650e+00],\n",
              "       [ 8.55570565e-01, -1.29022391e-01],\n",
              "       [-1.23663760e+00, -3.70722817e+00],\n",
              "       [-8.50652055e-01, -1.54100459e+00],\n",
              "       [-2.57288282e-03, -3.39005109e-01],\n",
              "       [ 8.59854946e-01,  2.03652405e+00],\n",
              "       [-1.52519971e+00, -3.37676226e+00],\n",
              "       [ 1.08304664e-02, -1.24518261e-01],\n",
              "       [-3.08887585e-01,  8.74389601e-01],\n",
              "       [-3.41910865e-01, -3.74276386e-01],\n",
              "       [ 6.61751529e-01,  2.92566223e+00],\n",
              "       [ 2.23519164e+00,  4.33266160e+00],\n",
              "       [ 7.30981058e-01,  2.44134086e+00],\n",
              "       [-1.32861435e-01,  3.02343489e-01],\n",
              "       [-1.00316680e-01,  8.65958304e-02],\n",
              "       [-7.93948859e-01, -3.81180928e+00],\n",
              "       [-1.62415980e+00, -3.90121516e+00],\n",
              "       [ 2.05554772e-01,  7.80629399e-01],\n",
              "       [-1.41393471e+00, -3.66357845e+00],\n",
              "       [ 8.03032647e-01,  1.20986161e+00]])"
            ]
          },
          "metadata": {},
          "execution_count": 119
        }
      ]
    },
    {
      "cell_type": "code",
      "source": [
        "selection.shape"
      ],
      "metadata": {
        "colab": {
          "base_uri": "https://localhost:8080/"
        },
        "id": "K0SbD2GKwIdK",
        "outputId": "cd96ed86-f2a3-4a79-b7ca-8ec439e77961"
      },
      "execution_count": 117,
      "outputs": [
        {
          "output_type": "execute_result",
          "data": {
            "text/plain": [
              "(20, 2)"
            ]
          },
          "metadata": {},
          "execution_count": 117
        }
      ]
    },
    {
      "cell_type": "code",
      "source": [
        "plt.scatter(X[:,0],X[:,1])\n",
        "plt.scatter(selection[:,0],selection[:,1],facecolor='none',edgecolor='black',s=200)"
      ],
      "metadata": {
        "colab": {
          "base_uri": "https://localhost:8080/",
          "height": 447
        },
        "id": "Ulqf-8cPwLBS",
        "outputId": "a8475c9b-bb98-43c1-e701-42681e03a749"
      },
      "execution_count": 118,
      "outputs": [
        {
          "output_type": "execute_result",
          "data": {
            "text/plain": [
              "<matplotlib.collections.PathCollection at 0x796ab31c5890>"
            ]
          },
          "metadata": {},
          "execution_count": 118
        },
        {
          "output_type": "display_data",
          "data": {
            "text/plain": [
              "<Figure size 640x480 with 1 Axes>"
            ],
            "image/png": "[encoded data removed]"
          },
          "metadata": {}
        }
      ]
    },
    {
      "cell_type": "code",
      "source": [
        "x = np.arange(10)\n",
        "x"
      ],
      "metadata": {
        "colab": {
          "base_uri": "https://localhost:8080/"
        },
        "id": "vf_Vd5F8wirT",
        "outputId": "6654a897-b688-47b2-fcd8-31a0b6ebd96f"
      },
      "execution_count": 120,
      "outputs": [
        {
          "output_type": "execute_result",
          "data": {
            "text/plain": [
              "array([0, 1, 2, 3, 4, 5, 6, 7, 8, 9])"
            ]
          },
          "metadata": {},
          "execution_count": 120
        }
      ]
    },
    {
      "cell_type": "code",
      "source": [
        "i = np.array([2,1,8,4])\n",
        "x[i]"
      ],
      "metadata": {
        "colab": {
          "base_uri": "https://localhost:8080/"
        },
        "id": "_OoSxFBHxW1X",
        "outputId": "209313eb-d83a-4376-ffbe-affd906e9c75"
      },
      "execution_count": 121,
      "outputs": [
        {
          "output_type": "execute_result",
          "data": {
            "text/plain": [
              "array([2, 1, 8, 4])"
            ]
          },
          "metadata": {},
          "execution_count": 121
        }
      ]
    },
    {
      "cell_type": "code",
      "source": [
        "x[i] = 99"
      ],
      "metadata": {
        "id": "lEfs__zDxcZL"
      },
      "execution_count": 122,
      "outputs": []
    },
    {
      "cell_type": "code",
      "source": [
        "x"
      ],
      "metadata": {
        "colab": {
          "base_uri": "https://localhost:8080/"
        },
        "id": "8qccHgEqxoFi",
        "outputId": "dc538383-1794-4099-e153-a9c78669a1a9"
      },
      "execution_count": 123,
      "outputs": [
        {
          "output_type": "execute_result",
          "data": {
            "text/plain": [
              "array([ 0, 99, 99,  3, 99,  5,  6,  7, 99,  9])"
            ]
          },
          "metadata": {},
          "execution_count": 123
        }
      ]
    },
    {
      "cell_type": "code",
      "source": [
        "x[i] -= 10"
      ],
      "metadata": {
        "id": "5QXpy8ZexorS"
      },
      "execution_count": 124,
      "outputs": []
    },
    {
      "cell_type": "code",
      "source": [
        "x"
      ],
      "metadata": {
        "colab": {
          "base_uri": "https://localhost:8080/"
        },
        "id": "Zn4alnFIxw2P",
        "outputId": "14a4f29e-71e5-4a0c-8f5e-ce1615e0aad8"
      },
      "execution_count": 125,
      "outputs": [
        {
          "output_type": "execute_result",
          "data": {
            "text/plain": [
              "array([ 0, 89, 89,  3, 89,  5,  6,  7, 89,  9])"
            ]
          },
          "metadata": {},
          "execution_count": 125
        }
      ]
    },
    {
      "cell_type": "code",
      "source": [
        "x = np.zeros(10)\n",
        "x[[0,0]] = [4,6]\n",
        "x"
      ],
      "metadata": {
        "colab": {
          "base_uri": "https://localhost:8080/"
        },
        "id": "wLPys041xxy5",
        "outputId": "0fc1fe6d-d91d-4c4f-d428-1d419d144058"
      },
      "execution_count": 126,
      "outputs": [
        {
          "output_type": "execute_result",
          "data": {
            "text/plain": [
              "array([6., 0., 0., 0., 0., 0., 0., 0., 0., 0.])"
            ]
          },
          "metadata": {},
          "execution_count": 126
        }
      ]
    },
    {
      "cell_type": "code",
      "source": [
        "i = [2,3,3,4,4,4]\n",
        "x[i] += 1\n",
        "x"
      ],
      "metadata": {
        "colab": {
          "base_uri": "https://localhost:8080/"
        },
        "id": "upytThh3yLD1",
        "outputId": "8a99c4c0-6db6-4164-acfe-8e7786050df6"
      },
      "execution_count": 127,
      "outputs": [
        {
          "output_type": "execute_result",
          "data": {
            "text/plain": [
              "array([6., 0., 1., 1., 1., 0., 0., 0., 0., 0.])"
            ]
          },
          "metadata": {},
          "execution_count": 127
        }
      ]
    },
    {
      "cell_type": "code",
      "source": [
        "np.add.at(x, i, 1)"
      ],
      "metadata": {
        "id": "a2OmdQ_iy0_C"
      },
      "execution_count": 128,
      "outputs": []
    },
    {
      "cell_type": "code",
      "source": [
        "x"
      ],
      "metadata": {
        "colab": {
          "base_uri": "https://localhost:8080/"
        },
        "id": "q28RIClsz0UR",
        "outputId": "43b1a7b5-ebdb-4618-f5ed-6d4f6d1152a8"
      },
      "execution_count": 129,
      "outputs": [
        {
          "output_type": "execute_result",
          "data": {
            "text/plain": [
              "array([6., 0., 2., 3., 4., 0., 0., 0., 0., 0.])"
            ]
          },
          "metadata": {},
          "execution_count": 129
        }
      ]
    },
    {
      "cell_type": "code",
      "source": [
        "i = [2,3,3,2,4]\n",
        "x = np.zeros(6)\n",
        "x"
      ],
      "metadata": {
        "colab": {
          "base_uri": "https://localhost:8080/"
        },
        "id": "LfRx5locz1bc",
        "outputId": "7b6fa921-8bc7-4a98-b4c7-ecdc8ea60f68"
      },
      "execution_count": 130,
      "outputs": [
        {
          "output_type": "execute_result",
          "data": {
            "text/plain": [
              "array([0., 0., 0., 0., 0., 0.])"
            ]
          },
          "metadata": {},
          "execution_count": 130
        }
      ]
    },
    {
      "cell_type": "code",
      "source": [
        "x[i]+=1"
      ],
      "metadata": {
        "id": "ArSCx_6_0pB3"
      },
      "execution_count": 132,
      "outputs": []
    },
    {
      "cell_type": "code",
      "source": [
        "x"
      ],
      "metadata": {
        "colab": {
          "base_uri": "https://localhost:8080/"
        },
        "id": "ShxYMWfJ0q0q",
        "outputId": "caa9cd00-0968-4ffe-d289-509440bb6ae0"
      },
      "execution_count": 133,
      "outputs": [
        {
          "output_type": "execute_result",
          "data": {
            "text/plain": [
              "array([0., 0., 1., 1., 1., 0.])"
            ]
          },
          "metadata": {},
          "execution_count": 133
        }
      ]
    },
    {
      "cell_type": "code",
      "source": [
        "rng = np.random.default_rng(seed=1701)\n",
        "x = rng.normal(size=100)\n",
        "x.shape"
      ],
      "metadata": {
        "colab": {
          "base_uri": "https://localhost:8080/"
        },
        "id": "mkRWFA070t5Z",
        "outputId": "369ab02f-4245-4bd2-88f6-93481ec4f44c"
      },
      "execution_count": 134,
      "outputs": [
        {
          "output_type": "execute_result",
          "data": {
            "text/plain": [
              "(100,)"
            ]
          },
          "metadata": {},
          "execution_count": 134
        }
      ]
    },
    {
      "cell_type": "code",
      "source": [
        "x.min()"
      ],
      "metadata": {
        "colab": {
          "base_uri": "https://localhost:8080/"
        },
        "id": "zaG6Yiyq1IOw",
        "outputId": "81d68413-0c63-4020-f954-99543050c1db"
      },
      "execution_count": 135,
      "outputs": [
        {
          "output_type": "execute_result",
          "data": {
            "text/plain": [
              "np.float64(-2.0859688213908054)"
            ]
          },
          "metadata": {},
          "execution_count": 135
        }
      ]
    },
    {
      "cell_type": "code",
      "source": [
        "x.max()"
      ],
      "metadata": {
        "colab": {
          "base_uri": "https://localhost:8080/"
        },
        "id": "XWFpYIiw1NGD",
        "outputId": "ac1f08b1-a3df-4cc8-e08c-23bfc7ba5911"
      },
      "execution_count": 136,
      "outputs": [
        {
          "output_type": "execute_result",
          "data": {
            "text/plain": [
              "np.float64(3.091607171618331)"
            ]
          },
          "metadata": {},
          "execution_count": 136
        }
      ]
    },
    {
      "cell_type": "code",
      "source": [
        "x"
      ],
      "metadata": {
        "colab": {
          "base_uri": "https://localhost:8080/"
        },
        "id": "XRZlI0fu2QP5",
        "outputId": "b8647e64-b899-4f01-8122-4fac15dc39fd"
      },
      "execution_count": 139,
      "outputs": [
        {
          "output_type": "execute_result",
          "data": {
            "text/plain": [
              "array([ 0.43874206,  0.32818515,  0.68328838, -0.81928256,  0.69156442,\n",
              "       -1.62453268,  1.50806312, -1.22449846,  1.22696072, -1.05013046,\n",
              "        0.62509363,  0.09693023,  0.62776415, -0.28565182,  1.49678665,\n",
              "       -0.76768541, -0.3942867 , -1.35693505,  0.33524959,  0.57442768,\n",
              "        1.62016911,  0.33395176, -1.02906713, -0.94266623,  0.38365532,\n",
              "        0.25423793,  1.36108696,  1.25474959, -0.05637126,  0.44880896,\n",
              "       -1.47909513,  2.40254455, -0.06959272, -1.52752832,  1.93633419,\n",
              "       -1.28006351, -0.71562065,  0.72455605,  0.47362789, -0.33131697,\n",
              "        0.26272942,  1.75038031,  0.01834221, -1.43899931,  1.3716487 ,\n",
              "        0.67679557,  0.53793618,  1.53399445,  0.28214872,  0.56313954,\n",
              "       -0.37793941, -1.15832253,  0.96594187, -0.35611958, -1.28536874,\n",
              "        0.19742658,  0.41682623, -0.95386364,  0.75830441, -2.08596882,\n",
              "       -1.16203473,  0.34232684, -1.11888193, -1.13596   ,  0.6742499 ,\n",
              "        1.26767704,  0.65873509, -0.64003051,  3.09160717,  0.51595829,\n",
              "        0.61122253, -0.01723733,  0.3037547 ,  0.48345155,  1.31693828,\n",
              "        0.11558915, -1.71886929, -0.98511272,  0.42671049,  0.54159558,\n",
              "       -1.40923638, -0.38289913, -0.36361407,  0.51818448,  0.98517332,\n",
              "       -0.28010458,  0.48822092,  1.18871415,  2.35468027, -0.50254828,\n",
              "        0.72586398,  0.82359641,  0.12582911, -0.96702245,  0.16762368,\n",
              "       -0.25626375, -0.77984442,  0.73111879, -0.90911587,  2.5795842 ])"
            ]
          },
          "metadata": {},
          "execution_count": 139
        }
      ]
    },
    {
      "cell_type": "code",
      "source": [
        "bins = np.linspace(-2.1, 3.1, 20)\n",
        "bins"
      ],
      "metadata": {
        "colab": {
          "base_uri": "https://localhost:8080/"
        },
        "id": "_EckxLvN1OtD",
        "outputId": "b1f85f28-deeb-4ac5-ae17-a4df4cc50527"
      },
      "execution_count": 137,
      "outputs": [
        {
          "output_type": "execute_result",
          "data": {
            "text/plain": [
              "array([-2.1       , -1.82631579, -1.55263158, -1.27894737, -1.00526316,\n",
              "       -0.73157895, -0.45789474, -0.18421053,  0.08947368,  0.36315789,\n",
              "        0.63684211,  0.91052632,  1.18421053,  1.45789474,  1.73157895,\n",
              "        2.00526316,  2.27894737,  2.55263158,  2.82631579,  3.1       ])"
            ]
          },
          "metadata": {},
          "execution_count": 137
        }
      ]
    },
    {
      "cell_type": "code",
      "source": [
        "counts = np.zeros_like(bins)\n",
        "counts.shape"
      ],
      "metadata": {
        "colab": {
          "base_uri": "https://localhost:8080/"
        },
        "id": "5M2HcSR71blZ",
        "outputId": "6bbb9944-a282-4da6-e554-e09731da3468"
      },
      "execution_count": 138,
      "outputs": [
        {
          "output_type": "execute_result",
          "data": {
            "text/plain": [
              "(20,)"
            ]
          },
          "metadata": {},
          "execution_count": 138
        }
      ]
    },
    {
      "cell_type": "code",
      "source": [
        "i = np.searchsorted(bins, x)\n",
        "i"
      ],
      "metadata": {
        "colab": {
          "base_uri": "https://localhost:8080/"
        },
        "id": "F0ieh1rc14QD",
        "outputId": "151085ed-7cf0-4654-fb66-ccd79b81a788"
      },
      "execution_count": 140,
      "outputs": [
        {
          "output_type": "execute_result",
          "data": {
            "text/plain": [
              "array([10,  9, 11,  5, 11,  2, 14,  4, 13,  4, 10,  9, 10,  7, 14,  5,  7,\n",
              "        3,  9, 10, 14,  9,  4,  5, 10,  9, 13, 13,  8, 10,  3, 17,  8,  3,\n",
              "       15,  3,  6, 11, 10,  7,  9, 15,  8,  3, 13, 11, 10, 14,  9, 10,  7,\n",
              "        4, 12,  7,  3,  9, 10,  5, 11,  1,  4,  9,  4,  4, 11, 13, 11,  6,\n",
              "       19, 10, 10,  8,  9, 10, 13,  9,  2,  5, 10, 10,  3,  7,  7, 10, 12,\n",
              "        7, 10, 13, 17,  6, 11, 11,  9,  5,  9,  7,  5, 11,  5, 18])"
            ]
          },
          "metadata": {},
          "execution_count": 140
        }
      ]
    },
    {
      "cell_type": "code",
      "source": [
        "counts[i]+=1"
      ],
      "metadata": {
        "id": "D6Y_NEG42Yzw"
      },
      "execution_count": null,
      "outputs": []
    },
    {
      "cell_type": "code",
      "source": [
        "np.add.at(counts, i, 1)"
      ],
      "metadata": {
        "id": "lBllk1w62uje"
      },
      "execution_count": 141,
      "outputs": []
    },
    {
      "cell_type": "code",
      "source": [
        "counts"
      ],
      "metadata": {
        "colab": {
          "base_uri": "https://localhost:8080/"
        },
        "id": "pLxbMcP72yuo",
        "outputId": "f6c9ea8f-b24a-4067-8632-42e72648565b"
      },
      "execution_count": 142,
      "outputs": [
        {
          "output_type": "execute_result",
          "data": {
            "text/plain": [
              "array([ 0.,  1.,  2.,  7.,  7.,  8.,  3.,  9.,  4., 13., 17., 10.,  2.,\n",
              "        7.,  4.,  2.,  0.,  2.,  1.,  1.])"
            ]
          },
          "metadata": {},
          "execution_count": 142
        }
      ]
    },
    {
      "cell_type": "code",
      "source": [
        "np.sum(counts)"
      ],
      "metadata": {
        "colab": {
          "base_uri": "https://localhost:8080/"
        },
        "id": "7qq2boOg2zjV",
        "outputId": "4213b214-d65a-451b-acff-02ac8362d55a"
      },
      "execution_count": 144,
      "outputs": [
        {
          "output_type": "execute_result",
          "data": {
            "text/plain": [
              "np.float64(100.0)"
            ]
          },
          "metadata": {},
          "execution_count": 144
        }
      ]
    },
    {
      "cell_type": "code",
      "source": [
        "plt.plot(bins,counts, drawstyle='steps')"
      ],
      "metadata": {
        "colab": {
          "base_uri": "https://localhost:8080/",
          "height": 447
        },
        "id": "PfMzFE7F26OL",
        "outputId": "5aabfcfc-e617-4f69-ec92-757144edd48f"
      },
      "execution_count": 146,
      "outputs": [
        {
          "output_type": "execute_result",
          "data": {
            "text/plain": [
              "[<matplotlib.lines.Line2D at 0x796ab2f7a050>]"
            ]
          },
          "metadata": {},
          "execution_count": 146
        },
        {
          "output_type": "display_data",
          "data": {
            "text/plain": [
              "<Figure size 640x480 with 1 Axes>"
            ],
            "image/png": "[encoded data removed]"
          },
          "metadata": {}
        }
      ]
    },
    {
      "cell_type": "code",
      "source": [
        "lst = [3,1,4,1,5,9,2,6]\n",
        "sorted(lst)"
      ],
      "metadata": {
        "colab": {
          "base_uri": "https://localhost:8080/"
        },
        "id": "YLU6uADF4omn",
        "outputId": "62dc7611-3ea2-4c89-a2f7-e5bdbc34fd0b"
      },
      "execution_count": 147,
      "outputs": [
        {
          "output_type": "execute_result",
          "data": {
            "text/plain": [
              "[1, 1, 2, 3, 4, 5, 6, 9]"
            ]
          },
          "metadata": {},
          "execution_count": 147
        }
      ]
    },
    {
      "cell_type": "code",
      "source": [
        "lst"
      ],
      "metadata": {
        "colab": {
          "base_uri": "https://localhost:8080/"
        },
        "id": "jdU0eqR95O_q",
        "outputId": "8f3f6d3f-5e49-4d3e-9b90-610ad655e147"
      },
      "execution_count": 148,
      "outputs": [
        {
          "output_type": "execute_result",
          "data": {
            "text/plain": [
              "[3, 1, 4, 1, 5, 9, 2, 6]"
            ]
          },
          "metadata": {},
          "execution_count": 148
        }
      ]
    },
    {
      "cell_type": "code",
      "source": [
        "lst.sort()"
      ],
      "metadata": {
        "id": "wqOhgINc5R3c"
      },
      "execution_count": 149,
      "outputs": []
    },
    {
      "cell_type": "code",
      "source": [
        "lst"
      ],
      "metadata": {
        "colab": {
          "base_uri": "https://localhost:8080/"
        },
        "id": "s75K5qMd5Tb0",
        "outputId": "15902b0c-bc10-4e8f-ff4a-7a558647d184"
      },
      "execution_count": 150,
      "outputs": [
        {
          "output_type": "execute_result",
          "data": {
            "text/plain": [
              "[1, 1, 2, 3, 4, 5, 6, 9]"
            ]
          },
          "metadata": {},
          "execution_count": 150
        }
      ]
    },
    {
      "cell_type": "code",
      "source": [
        "x = np.array([2,1,4,3,5])\n",
        "np.sort(x)"
      ],
      "metadata": {
        "colab": {
          "base_uri": "https://localhost:8080/"
        },
        "id": "z1KsNUz_5USe",
        "outputId": "a250645b-16c3-4f3f-ad7d-f53749007619"
      },
      "execution_count": 151,
      "outputs": [
        {
          "output_type": "execute_result",
          "data": {
            "text/plain": [
              "array([1, 2, 3, 4, 5])"
            ]
          },
          "metadata": {},
          "execution_count": 151
        }
      ]
    },
    {
      "cell_type": "code",
      "source": [
        "x.sort()"
      ],
      "metadata": {
        "id": "iWs0A2r75ddA"
      },
      "execution_count": 152,
      "outputs": []
    },
    {
      "cell_type": "code",
      "source": [
        "x"
      ],
      "metadata": {
        "colab": {
          "base_uri": "https://localhost:8080/"
        },
        "id": "4eD4zd1U5elI",
        "outputId": "d3116fed-79b9-4c37-eea2-45c259996cc4"
      },
      "execution_count": 153,
      "outputs": [
        {
          "output_type": "execute_result",
          "data": {
            "text/plain": [
              "array([1, 2, 3, 4, 5])"
            ]
          },
          "metadata": {},
          "execution_count": 153
        }
      ]
    },
    {
      "cell_type": "code",
      "source": [
        "x = np.array([2,1,4,3,5])\n",
        "i = np.argsort(x)\n",
        "i"
      ],
      "metadata": {
        "colab": {
          "base_uri": "https://localhost:8080/"
        },
        "id": "Bj491xAa5e8Y",
        "outputId": "9cbd1c07-b86c-4b35-af03-eee9641fa698"
      },
      "execution_count": 154,
      "outputs": [
        {
          "output_type": "execute_result",
          "data": {
            "text/plain": [
              "array([1, 0, 3, 2, 4])"
            ]
          },
          "metadata": {},
          "execution_count": 154
        }
      ]
    },
    {
      "cell_type": "code",
      "source": [
        "x[i]"
      ],
      "metadata": {
        "colab": {
          "base_uri": "https://localhost:8080/"
        },
        "id": "hEQ-QqbW5wTa",
        "outputId": "771c583d-19c0-4b39-b759-a82babd7f77a"
      },
      "execution_count": 155,
      "outputs": [
        {
          "output_type": "execute_result",
          "data": {
            "text/plain": [
              "array([1, 2, 3, 4, 5])"
            ]
          },
          "metadata": {},
          "execution_count": 155
        }
      ]
    },
    {
      "cell_type": "code",
      "source": [
        "rng = np.random.default_rng(seed=42)\n",
        "X = rng.integers(0,10,(4,6))\n",
        "X"
      ],
      "metadata": {
        "colab": {
          "base_uri": "https://localhost:8080/"
        },
        "id": "7fETiEzO5yGK",
        "outputId": "d2c32374-2185-4f3d-e4e7-c7dfb2135659"
      },
      "execution_count": 157,
      "outputs": [
        {
          "output_type": "execute_result",
          "data": {
            "text/plain": [
              "array([[0, 7, 6, 4, 4, 8],\n",
              "       [0, 6, 2, 0, 5, 9],\n",
              "       [7, 7, 7, 7, 5, 1],\n",
              "       [8, 4, 5, 3, 1, 9]])"
            ]
          },
          "metadata": {},
          "execution_count": 157
        }
      ]
    },
    {
      "cell_type": "code",
      "source": [
        "np.sort(X, axis=0)"
      ],
      "metadata": {
        "colab": {
          "base_uri": "https://localhost:8080/"
        },
        "id": "gH6MyZoW6CHT",
        "outputId": "71f3fc3f-4152-4efc-81a5-fa87c97ee2a1"
      },
      "execution_count": 158,
      "outputs": [
        {
          "output_type": "execute_result",
          "data": {
            "text/plain": [
              "array([[0, 4, 2, 0, 1, 1],\n",
              "       [0, 6, 5, 3, 4, 8],\n",
              "       [7, 7, 6, 4, 5, 9],\n",
              "       [8, 7, 7, 7, 5, 9]])"
            ]
          },
          "metadata": {},
          "execution_count": 158
        }
      ]
    },
    {
      "cell_type": "code",
      "source": [
        "np.sort(np.sort(X,axis=1),axis=0)"
      ],
      "metadata": {
        "colab": {
          "base_uri": "https://localhost:8080/"
        },
        "id": "4Du2r5gG6byF",
        "outputId": "7da399ce-c771-4e02-900a-6364be6787b7"
      },
      "execution_count": 160,
      "outputs": [
        {
          "output_type": "execute_result",
          "data": {
            "text/plain": [
              "array([[0, 0, 2, 5, 6, 7],\n",
              "       [0, 3, 4, 5, 7, 8],\n",
              "       [1, 4, 4, 6, 7, 9],\n",
              "       [1, 5, 7, 7, 8, 9]])"
            ]
          },
          "metadata": {},
          "execution_count": 160
        }
      ]
    },
    {
      "cell_type": "code",
      "source": [
        "x = np.array([7,2,3,1,6,5,4])\n",
        "np.partition(x,3)"
      ],
      "metadata": {
        "colab": {
          "base_uri": "https://localhost:8080/"
        },
        "id": "2vfG6tWG6wkF",
        "outputId": "86b8c9bc-7111-4e64-8a44-37ab86a50376"
      },
      "execution_count": 161,
      "outputs": [
        {
          "output_type": "execute_result",
          "data": {
            "text/plain": [
              "array([1, 2, 3, 4, 5, 6, 7])"
            ]
          },
          "metadata": {},
          "execution_count": 161
        }
      ]
    },
    {
      "cell_type": "code",
      "source": [
        "X"
      ],
      "metadata": {
        "colab": {
          "base_uri": "https://localhost:8080/"
        },
        "id": "4_hVAChF7Vyh",
        "outputId": "a3603a66-22d4-4673-ede2-c68a0b5bb5ac"
      },
      "execution_count": 162,
      "outputs": [
        {
          "output_type": "execute_result",
          "data": {
            "text/plain": [
              "array([[0, 7, 6, 4, 4, 8],\n",
              "       [0, 6, 2, 0, 5, 9],\n",
              "       [7, 7, 7, 7, 5, 1],\n",
              "       [8, 4, 5, 3, 1, 9]])"
            ]
          },
          "metadata": {},
          "execution_count": 162
        }
      ]
    },
    {
      "cell_type": "code",
      "source": [
        "np.partition(X,2,axis=1)"
      ],
      "metadata": {
        "colab": {
          "base_uri": "https://localhost:8080/"
        },
        "id": "01TBqkvf7e2T",
        "outputId": "0b3e507b-aa12-4831-af3e-6725b1739323"
      },
      "execution_count": 163,
      "outputs": [
        {
          "output_type": "execute_result",
          "data": {
            "text/plain": [
              "array([[0, 4, 4, 6, 7, 8],\n",
              "       [0, 0, 2, 5, 6, 9],\n",
              "       [1, 5, 7, 7, 7, 7],\n",
              "       [1, 3, 4, 5, 8, 9]])"
            ]
          },
          "metadata": {},
          "execution_count": 163
        }
      ]
    },
    {
      "cell_type": "code",
      "source": [
        "X = rng.random((10,2))"
      ],
      "metadata": {
        "id": "3vssTYdt7qJM"
      },
      "execution_count": 164,
      "outputs": []
    },
    {
      "cell_type": "code",
      "source": [
        "X"
      ],
      "metadata": {
        "colab": {
          "base_uri": "https://localhost:8080/"
        },
        "id": "zRpN5yUR8Pxj",
        "outputId": "c5ff9b0b-c6b4-46c3-963a-28ecfba4d306"
      },
      "execution_count": 165,
      "outputs": [
        {
          "output_type": "execute_result",
          "data": {
            "text/plain": [
              "array([[0.64386512, 0.82276161],\n",
              "       [0.4434142 , 0.22723872],\n",
              "       [0.55458479, 0.06381726],\n",
              "       [0.82763117, 0.6316644 ],\n",
              "       [0.75808774, 0.35452597],\n",
              "       [0.97069802, 0.89312112],\n",
              "       [0.7783835 , 0.19463871],\n",
              "       [0.466721  , 0.04380377],\n",
              "       [0.15428949, 0.68304895],\n",
              "       [0.74476216, 0.96750973]])"
            ]
          },
          "metadata": {},
          "execution_count": 165
        }
      ]
    },
    {
      "cell_type": "code",
      "source": [
        "plt.scatter(X[:,0],X[:,1])"
      ],
      "metadata": {
        "colab": {
          "base_uri": "https://localhost:8080/",
          "height": 447
        },
        "id": "3nu7jwzI8Qav",
        "outputId": "ccd6c2b8-3dc0-48fd-8f68-7aefdc39032a"
      },
      "execution_count": 166,
      "outputs": [
        {
          "output_type": "execute_result",
          "data": {
            "text/plain": [
              "<matplotlib.collections.PathCollection at 0x796ab30bda50>"
            ]
          },
          "metadata": {},
          "execution_count": 166
        },
        {
          "output_type": "display_data",
          "data": {
            "text/plain": [
              "<Figure size 640x480 with 1 Axes>"
            ],
            "image/png": "[encoded data removed]"
          },
          "metadata": {}
        }
      ]
    },
    {
      "cell_type": "code",
      "source": [],
      "metadata": {
        "id": "FfgtI70f8Tv-"
      },
      "execution_count": null,
      "outputs": []
    }
  ],
  "metadata": {
    "colab": {
      "provenance": []
    },
    "kernelspec": {
      "display_name": "Python 3",
      "name": "python3"
    },
    "language_info": {
      "name": "python"
    }
  },
  "nbformat": 4,
  "nbformat_minor": 0
}