{
  "nbformat": 4,
  "nbformat_minor": 0,
  "metadata": {
    "colab": {
      "provenance": []
    },
    "kernelspec": {
      "name": "python3",
      "display_name": "Python 3"
    },
    "language_info": {
      "name": "python"
    }
  },
  "cells": [
    {
      "cell_type": "markdown",
      "source": [
        "###Caesar Cipher Encryption Function"
      ],
      "metadata": {
        "id": "AVyPlX0LbXxQ"
      }
    },
    {
      "cell_type": "code",
      "execution_count": 3,
      "metadata": {
        "colab": {
          "base_uri": "https://localhost:8080/"
        },
        "id": "QbVvoeyAaRGA",
        "outputId": "3f6b3baf-6da9-4a71-8e0e-b2f46b3a3957"
      },
      "outputs": [
        {
          "output_type": "stream",
          "name": "stdout",
          "text": [
            "Enter the message to encrypt: hello world\n",
            "Enter the shift amount: 3\n",
            "Encrypted text: khoor zruog\n"
          ]
        }
      ],
      "source": [
        "def caesar_encrypt(text, shift):\n",
        "    encrypted = ''\n",
        "    for char in text:\n",
        "        if char.isalpha():\n",
        "            base = ord('A') if char.isupper() else ord('a')\n",
        "            encrypted += chr((ord(char) - base + shift) % 26 + base)\n",
        "        else:\n",
        "            encrypted += char\n",
        "    return encrypted\n",
        "\n",
        "\n",
        "message = input(\"Enter the message to encrypt: \")\n",
        "shift = int(input(\"Enter the shift amount: \"))\n",
        "\n",
        "cipher_text = caesar_encrypt(message, shift)\n",
        "print(\"Encrypted text:\", cipher_text)\n"
      ]
    },
    {
      "cell_type": "markdown",
      "source": [
        "###Caesar Cipher Decryption Function"
      ],
      "metadata": {
        "id": "0d-zRr4Ubh1j"
      }
    },
    {
      "cell_type": "code",
      "source": [
        "def caesar_decrypt(cipher_text, shift):\n",
        "    decrypted = ''\n",
        "    for char in cipher_text:\n",
        "        if char.isalpha():\n",
        "            base = ord('A') if char.isupper() else ord('a')\n",
        "            decrypted += chr((ord(char) - base - shift) % 26 + base)\n",
        "        else:\n",
        "            decrypted += char\n",
        "    return decrypted\n",
        "\n",
        "\n",
        "cipher_text = input(\"Enter the encrypted message: \")\n",
        "shift = int(input(\"Enter the shift amount used during encryption: \"))\n",
        "\n",
        "original_text = caesar_decrypt(cipher_text, shift)\n",
        "print(\"Decrypted text:\", original_text)\n"
      ],
      "metadata": {
        "colab": {
          "base_uri": "https://localhost:8080/"
        },
        "id": "b4aGrmbgbIfC",
        "outputId": "706bbd97-7809-4ffa-a97b-f20c6282fb5d"
      },
      "execution_count": 4,
      "outputs": [
        {
          "output_type": "stream",
          "name": "stdout",
          "text": [
            "Enter the encrypted message:  khoor zruog\n",
            "Enter the shift amount used during encryption: 3\n",
            "Decrypted text:  hello world\n"
          ]
        }
      ]
    }
  ]
}
